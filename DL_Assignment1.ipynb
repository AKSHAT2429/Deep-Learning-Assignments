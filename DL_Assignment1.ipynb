{
  "nbformat": 4,
  "nbformat_minor": 0,
  "metadata": {
    "colab": {
      "name": "DL_Assignment1",
      "provenance": [],
      "collapsed_sections": [],
      "toc_visible": true
    },
    "kernelspec": {
      "name": "python3",
      "display_name": "Python 3"
    },
    "language_info": {
      "name": "python"
    }
  },
  "cells": [
    {
      "cell_type": "code",
      "metadata": {
        "id": "6ne5XWBqPBIn"
      },
      "source": [
        "from numpy.random import seed\n",
        "seed(7)\n",
        "\n",
        "import tensorflow as tf \n",
        "from tensorflow import keras\n",
        "from keras.models import Sequential\n",
        "from keras.layers import Dense\n",
        "from keras.layers import Dropout\n",
        "import numpy as np \n",
        "import pandas as pd\n",
        "import matplotlib.pyplot as plt \n",
        "from sklearn.preprocessing import LabelEncoder\n",
        "from sklearn.preprocessing import OneHotEncoder\n",
        "from sklearn.model_selection import GridSearchCV\n",
        "from keras.wrappers.scikit_learn import KerasClassifier\n",
        "from sklearn.model_selection import KFold"
      ],
      "execution_count": 1,
      "outputs": []
    },
    {
      "cell_type": "markdown",
      "metadata": {
        "id": "PgBmr-cgPvFN"
      },
      "source": [
        "# **Loading the dataset**"
      ]
    },
    {
      "cell_type": "code",
      "metadata": {
        "colab": {
          "base_uri": "https://localhost:8080/"
        },
        "id": "xbYjCbnXULvt",
        "outputId": "9675852c-c817-48a4-86b3-a60bc1ca754f"
      },
      "source": [
        "from google.colab import drive\n",
        "drive.mount(\"/content/gdrive\")"
      ],
      "execution_count": 2,
      "outputs": [
        {
          "output_type": "stream",
          "name": "stdout",
          "text": [
            "Mounted at /content/gdrive\n"
          ]
        }
      ]
    },
    {
      "cell_type": "code",
      "metadata": {
        "colab": {
          "base_uri": "https://localhost:8080/"
        },
        "id": "CiC6XchjUMSW",
        "outputId": "8eea1186-7d63-402c-8830-a30e60ab67fc"
      },
      "source": [
        "#(60,000, 784) for train\n",
        "#(10,000, 784) for test\n",
        "train = pd.read_csv(\"/content/gdrive/MyDrive/DL_DATA/fashion-mnist_train.csv\")\n",
        "test = pd.read_csv(\"/content/gdrive/MyDrive/DL_DATA/fashion-mnist_test.csv\")\n",
        "print(train)\n",
        "print(test)"
      ],
      "execution_count": 3,
      "outputs": [
        {
          "output_type": "stream",
          "name": "stdout",
          "text": [
            "       label  pixel1  pixel2  pixel3  ...  pixel781  pixel782  pixel783  pixel784\n",
            "0          2       0       0       0  ...         0         0         0         0\n",
            "1          9       0       0       0  ...         0         0         0         0\n",
            "2          6       0       0       0  ...         0         0         0         0\n",
            "3          0       0       0       0  ...         0         0         0         0\n",
            "4          3       0       0       0  ...         0         0         0         0\n",
            "...      ...     ...     ...     ...  ...       ...       ...       ...       ...\n",
            "59995      9       0       0       0  ...         0         0         0         0\n",
            "59996      1       0       0       0  ...         0         0         0         0\n",
            "59997      8       0       0       0  ...         0         0         0         0\n",
            "59998      8       0       0       0  ...         0         0         0         0\n",
            "59999      7       0       0       0  ...         0         0         0         0\n",
            "\n",
            "[60000 rows x 785 columns]\n",
            "      label  pixel1  pixel2  pixel3  ...  pixel781  pixel782  pixel783  pixel784\n",
            "0         0       0       0       0  ...         0         0         0         0\n",
            "1         1       0       0       0  ...         0         0         0         0\n",
            "2         2       0       0       0  ...        31         0         0         0\n",
            "3         2       0       0       0  ...       222        56         0         0\n",
            "4         3       0       0       0  ...         0         0         0         0\n",
            "...     ...     ...     ...     ...  ...       ...       ...       ...       ...\n",
            "9995      0       0       0       0  ...         1         0         0         0\n",
            "9996      6       0       0       0  ...        28         0         0         0\n",
            "9997      8       0       0       0  ...        42         0         1         0\n",
            "9998      8       0       1       3  ...         0         0         0         0\n",
            "9999      1       0       0       0  ...         0         0         0         0\n",
            "\n",
            "[10000 rows x 785 columns]\n"
          ]
        }
      ]
    },
    {
      "cell_type": "code",
      "metadata": {
        "id": "_hFaE_kbVoed"
      },
      "source": [
        "X_train = train.drop(\"label\",axis = 1)  #basically taking all the columns except the label column\n",
        "X_test = test.drop(\"label\",axis = 1)"
      ],
      "execution_count": 4,
      "outputs": []
    },
    {
      "cell_type": "markdown",
      "metadata": {
        "id": "IhfNyYRUPsZQ"
      },
      "source": [
        "# **Convert Categorical Data**"
      ]
    },
    {
      "cell_type": "code",
      "metadata": {
        "id": "lMPMD5xePXPC",
        "colab": {
          "base_uri": "https://localhost:8080/"
        },
        "outputId": "75704a0e-e452-4e75-baca-f6d35c344354"
      },
      "source": [
        "#One Hot Encoding to convert the categorical labels to arrays\n",
        "\n",
        "le = LabelEncoder()\n",
        "one = OneHotEncoder(sparse=False) #https://stackoverflow.com/questions/66580608/meaning-of-sparse-false-pre-processing-data-with-onehotencoder\n",
        "\n",
        "y_train = le.fit_transform(train[\"label\"]) #taking the labels from the csv file (It was dropped in X_train, but we need them here)\n",
        "y_train = y_train.reshape(len(y_train), -1)\n",
        "y_train = one.fit_transform(y_train)\n",
        "print(y_train)\n",
        "\n",
        "y_test = le.fit_transform(test[\"label\"])\n",
        "y_test = y_test.reshape(len(y_test), -1)\n",
        "y_test = one.fit_transform(y_test)\n",
        "print(y_test)"
      ],
      "execution_count": 5,
      "outputs": [
        {
          "output_type": "stream",
          "name": "stdout",
          "text": [
            "[[0. 0. 1. ... 0. 0. 0.]\n",
            " [0. 0. 0. ... 0. 0. 1.]\n",
            " [0. 0. 0. ... 0. 0. 0.]\n",
            " ...\n",
            " [0. 0. 0. ... 0. 1. 0.]\n",
            " [0. 0. 0. ... 0. 1. 0.]\n",
            " [0. 0. 0. ... 1. 0. 0.]]\n",
            "[[1. 0. 0. ... 0. 0. 0.]\n",
            " [0. 1. 0. ... 0. 0. 0.]\n",
            " [0. 0. 1. ... 0. 0. 0.]\n",
            " ...\n",
            " [0. 0. 0. ... 0. 1. 0.]\n",
            " [0. 0. 0. ... 0. 1. 0.]\n",
            " [0. 1. 0. ... 0. 0. 0.]]\n"
          ]
        }
      ]
    },
    {
      "cell_type": "markdown",
      "metadata": {
        "id": "PmW6eqOqP0hM"
      },
      "source": [
        "# **Training the NN model**"
      ]
    },
    {
      "cell_type": "markdown",
      "metadata": {
        "id": "eOjCWHyPvfhv"
      },
      "source": [
        "**Model 1_1:** </br>\n",
        "1. 3 layers \n",
        "2. 128+64+10 nodes in total \n",
        "3. Activation- ReLU\n",
        "4. Loss- Categorical Cross Entropy Loss\n",
        "5. Only testing and training\n",
        "6. Time taken for 15 epochs- 61s"
      ]
    },
    {
      "cell_type": "code",
      "metadata": {
        "colab": {
          "base_uri": "https://localhost:8080/"
        },
        "id": "s1lhxZcnP30h",
        "outputId": "eabe4fea-3d36-4dfe-80e3-d9cb48a4da29"
      },
      "source": [
        "keras.backend.clear_session()\n",
        "\n",
        "#https://stackoverflow.com/questions/44747343/keras-input-explanation-input-shape-units-batch-size-dim-etc Freakin useful theory\n",
        "#input layer, the starting tensor has the same shape as the input data. Thus, input_shape(784,) is the same as (batch_size,784). This means that each sample has 784 values.\n",
        "#https://datascience.stackexchange.com/questions/53609/how-to-determine-input-shape-in-keras (Refer for loading the data, explains why only the columns are taken)\n",
        "\n",
        "# Step 1 - Build the architecture\n",
        "\n",
        "# fix random seed for reproducibility\n",
        "seed = 7\n",
        "np.random.seed(seed)\n",
        "\n",
        "model_1_1 = keras.Sequential([\n",
        "    keras.layers.Dense(units=128, activation=tf.nn.relu, input_shape=(784, )), #input layer\n",
        "    keras.layers.Dense(units=64, activation=tf.nn.relu), #1 hidden layer\n",
        "    keras.layers.Dense(units=10, activation=tf.nn.softmax) #output layer\n",
        "])\n",
        "model_1_1.summary() \n",
        "\n",
        "# Step 2 - Compile the model\n",
        "model_1_1.compile(loss='categorical_crossentropy', metrics=['accuracy'])"
      ],
      "execution_count": 6,
      "outputs": [
        {
          "output_type": "stream",
          "name": "stdout",
          "text": [
            "Model: \"sequential\"\n",
            "_________________________________________________________________\n",
            "Layer (type)                 Output Shape              Param #   \n",
            "=================================================================\n",
            "dense (Dense)                (None, 128)               100480    \n",
            "_________________________________________________________________\n",
            "dense_1 (Dense)              (None, 64)                8256      \n",
            "_________________________________________________________________\n",
            "dense_2 (Dense)              (None, 10)                650       \n",
            "=================================================================\n",
            "Total params: 109,386\n",
            "Trainable params: 109,386\n",
            "Non-trainable params: 0\n",
            "_________________________________________________________________\n"
          ]
        }
      ]
    },
    {
      "cell_type": "code",
      "metadata": {
        "colab": {
          "base_uri": "https://localhost:8080/"
        },
        "id": "vQKpjqO8P5-Y",
        "outputId": "76c14067-473d-4957-b2d3-9001b4bbc899"
      },
      "source": [
        "#Step 3 - Train the model, by fitting it to the training data\n",
        "NN_3 = model_1_1.fit(X_train, y_train, epochs=15)\n",
        "\n",
        "#Step 4 - Evaluate the model\n",
        "test_loss, test_acc = model_1_1.evaluate(X_test, y_test)\n",
        "print(\"Model - 3 layers - test loss:\", test_loss)\n",
        "print(\"Model - 3 layers - test accuracy:\", test_acc * 100)"
      ],
      "execution_count": 7,
      "outputs": [
        {
          "output_type": "stream",
          "name": "stdout",
          "text": [
            "Epoch 1/15\n",
            "1875/1875 [==============================] - 8s 4ms/step - loss: 2.5216 - accuracy: 0.6737\n",
            "Epoch 2/15\n",
            "1875/1875 [==============================] - 7s 4ms/step - loss: 0.8341 - accuracy: 0.7406\n",
            "Epoch 3/15\n",
            "1875/1875 [==============================] - 6s 3ms/step - loss: 0.8194 - accuracy: 0.7516\n",
            "Epoch 4/15\n",
            "1875/1875 [==============================] - 6s 3ms/step - loss: 0.8075 - accuracy: 0.7650\n",
            "Epoch 5/15\n",
            "1875/1875 [==============================] - 6s 3ms/step - loss: 0.8473 - accuracy: 0.7649\n",
            "Epoch 6/15\n",
            "1875/1875 [==============================] - 7s 3ms/step - loss: 0.8164 - accuracy: 0.7655\n",
            "Epoch 7/15\n",
            "1875/1875 [==============================] - 7s 4ms/step - loss: 0.8509 - accuracy: 0.7595\n",
            "Epoch 8/15\n",
            "1875/1875 [==============================] - 7s 4ms/step - loss: 0.9047 - accuracy: 0.7604\n",
            "Epoch 9/15\n",
            "1875/1875 [==============================] - 6s 3ms/step - loss: 0.9254 - accuracy: 0.7598\n",
            "Epoch 10/15\n",
            "1875/1875 [==============================] - 6s 3ms/step - loss: 0.9258 - accuracy: 0.7438\n",
            "Epoch 11/15\n",
            "1875/1875 [==============================] - 7s 4ms/step - loss: 0.9756 - accuracy: 0.7311\n",
            "Epoch 12/15\n",
            "1875/1875 [==============================] - 7s 4ms/step - loss: 1.0946 - accuracy: 0.7214\n",
            "Epoch 13/15\n",
            "1875/1875 [==============================] - 7s 4ms/step - loss: 1.0723 - accuracy: 0.7132\n",
            "Epoch 14/15\n",
            "1875/1875 [==============================] - 7s 3ms/step - loss: 1.1282 - accuracy: 0.7153\n",
            "Epoch 15/15\n",
            "1875/1875 [==============================] - 6s 3ms/step - loss: 1.1662 - accuracy: 0.7035\n",
            "313/313 [==============================] - 1s 2ms/step - loss: 1.9741 - accuracy: 0.6745\n",
            "Model - 3 layers - test loss: 1.9741125106811523\n",
            "Model - 3 layers - test accuracy: 67.44999885559082\n"
          ]
        }
      ]
    },
    {
      "cell_type": "code",
      "metadata": {
        "colab": {
          "base_uri": "https://localhost:8080/",
          "height": 312
        },
        "id": "VCh6Ks10rSTW",
        "outputId": "1559f970-83bf-4f78-97e4-f6ad721c18f1"
      },
      "source": [
        "plt.plot(NN_3.history['loss'], 'blue')\n",
        "plt.title('Model loss')\n",
        "plt.ylabel('loss')\n",
        "plt.xlabel('epoch')\n",
        "plt.legend(['train'], loc='upper left')"
      ],
      "execution_count": 8,
      "outputs": [
        {
          "output_type": "execute_result",
          "data": {
            "text/plain": [
              "<matplotlib.legend.Legend at 0x7fe9f0e217d0>"
            ]
          },
          "metadata": {},
          "execution_count": 8
        },
        {
          "output_type": "display_data",
          "data": {
            "image/png": "[encoded data removed]",
            "text/plain": [
              "<Figure size 432x288 with 1 Axes>"
            ]
          },
          "metadata": {
            "needs_background": "light"
          }
        }
      ]
    },
    {
      "cell_type": "code",
      "metadata": {
        "colab": {
          "base_uri": "https://localhost:8080/",
          "height": 312
        },
        "id": "ZTf8UNcuwaR5",
        "outputId": "591f5df3-9fce-4f2a-d709-825c5598450a"
      },
      "source": [
        "plt.plot(NN_3.history['accuracy'], 'blue')\n",
        "plt.title('Model accuracy')\n",
        "plt.ylabel('accuracy')\n",
        "plt.xlabel('epoch')\n",
        "plt.legend(['train'], loc='upper left')"
      ],
      "execution_count": 9,
      "outputs": [
        {
          "output_type": "execute_result",
          "data": {
            "text/plain": [
              "<matplotlib.legend.Legend at 0x7fe9f0d4f3d0>"
            ]
          },
          "metadata": {},
          "execution_count": 9
        },
        {
          "output_type": "display_data",
          "data": {
            "image/png": "[encoded data removed]",
            "text/plain": [
              "<Figure size 432x288 with 1 Axes>"
            ]
          },
          "metadata": {
            "needs_background": "light"
          }
        }
      ]
    },
    {
      "cell_type": "markdown",
      "metadata": {
        "id": "N8boohgiLQof"
      },
      "source": [
        "**Model 1_2:** </br>\n",
        "1. 4 layers \n",
        "2. 256+128+32+10 nodes in total \n",
        "3. Activation- Sigmoid\n",
        "4. Loss- KL Divergence\n",
        "5. adam optimizer\n",
        "6. Testing, training, Validation (aka Hold-Out Validation)\n",
        "7. Tested in batches (Not necessary cause small model anyways)\n",
        "8. Time taken for 20 epochs- 41s"
      ]
    },
    {
      "cell_type": "code",
      "metadata": {
        "colab": {
          "base_uri": "https://localhost:8080/"
        },
        "id": "IMslRLZGOdAH",
        "outputId": "cc2483fc-89a5-48d5-c3d5-5fa275abb9d7"
      },
      "source": [
        "keras.backend.clear_session()\n",
        "\n",
        "seed = 7\n",
        "np.random.seed(seed)\n",
        "\n",
        "model_1_2 = keras.Sequential([\n",
        "    keras.layers.Dense(units=256, activation=tf.nn.sigmoid, input_shape=(784, )), #input layer\n",
        "    keras.layers.Dense(units=128, activation=tf.nn.sigmoid), #1 hidden layer\n",
        "    keras.layers.Dense(units=32, activation=tf.nn.sigmoid), #2 hidden layer\n",
        "    keras.layers.Dense(units=10, activation=tf.nn.softmax) #output layer\n",
        "])\n",
        "model_1_2.summary() \n",
        "\n",
        "model_1_2.compile(optimizer=\"adam\", loss='kl_divergence', metrics=['accuracy'])"
      ],
      "execution_count": 10,
      "outputs": [
        {
          "output_type": "stream",
          "name": "stdout",
          "text": [
            "Model: \"sequential\"\n",
            "_________________________________________________________________\n",
            "Layer (type)                 Output Shape              Param #   \n",
            "=================================================================\n",
            "dense (Dense)                (None, 256)               200960    \n",
            "_________________________________________________________________\n",
            "dense_1 (Dense)              (None, 128)               32896     \n",
            "_________________________________________________________________\n",
            "dense_2 (Dense)              (None, 32)                4128      \n",
            "_________________________________________________________________\n",
            "dense_3 (Dense)              (None, 10)                330       \n",
            "=================================================================\n",
            "Total params: 238,314\n",
            "Trainable params: 238,314\n",
            "Non-trainable params: 0\n",
            "_________________________________________________________________\n"
          ]
        }
      ]
    },
    {
      "cell_type": "code",
      "metadata": {
        "colab": {
          "base_uri": "https://localhost:8080/"
        },
        "id": "OrQv9xi-Qgsu",
        "outputId": "c2f7bd1a-e62e-4942-a186-8f7ef47e227b"
      },
      "source": [
        "NN_3b = model_1_2.fit(X_train, y_train, epochs=20, batch_size=196, validation_split=0.2)\n",
        "\n",
        "test_loss, test_acc = model_1_2.evaluate(X_test, y_test)\n",
        "print(\"Model - 4 layers - test loss:\", test_loss)\n",
        "print(\"Model - 4 layers - test accuracy:\", test_acc * 100)"
      ],
      "execution_count": 11,
      "outputs": [
        {
          "output_type": "stream",
          "name": "stdout",
          "text": [
            "Epoch 1/20\n",
            "245/245 [==============================] - 3s 12ms/step - loss: 1.3332 - accuracy: 0.6231 - val_loss: 0.8368 - val_accuracy: 0.7387\n",
            "Epoch 2/20\n",
            "245/245 [==============================] - 2s 10ms/step - loss: 0.7457 - accuracy: 0.7410 - val_loss: 0.6858 - val_accuracy: 0.7496\n",
            "Epoch 3/20\n",
            "245/245 [==============================] - 3s 10ms/step - loss: 0.6759 - accuracy: 0.7487 - val_loss: 0.6666 - val_accuracy: 0.7583\n",
            "Epoch 4/20\n",
            "245/245 [==============================] - 2s 10ms/step - loss: 0.6656 - accuracy: 0.7495 - val_loss: 0.6560 - val_accuracy: 0.7498\n",
            "Epoch 5/20\n",
            "245/245 [==============================] - 3s 11ms/step - loss: 0.6336 - accuracy: 0.7585 - val_loss: 0.6360 - val_accuracy: 0.7589\n",
            "Epoch 6/20\n",
            "245/245 [==============================] - 2s 10ms/step - loss: 0.6246 - accuracy: 0.7635 - val_loss: 0.6351 - val_accuracy: 0.7592\n",
            "Epoch 7/20\n",
            "245/245 [==============================] - 2s 10ms/step - loss: 0.6217 - accuracy: 0.7641 - val_loss: 0.6501 - val_accuracy: 0.7538\n",
            "Epoch 8/20\n",
            "245/245 [==============================] - 3s 10ms/step - loss: 0.6140 - accuracy: 0.7680 - val_loss: 0.6043 - val_accuracy: 0.7736\n",
            "Epoch 9/20\n",
            "245/245 [==============================] - 3s 11ms/step - loss: 0.6199 - accuracy: 0.7637 - val_loss: 0.6421 - val_accuracy: 0.7598\n",
            "Epoch 10/20\n",
            "245/245 [==============================] - 3s 11ms/step - loss: 0.6128 - accuracy: 0.7661 - val_loss: 0.5908 - val_accuracy: 0.7690\n",
            "Epoch 11/20\n",
            "245/245 [==============================] - 2s 10ms/step - loss: 0.5864 - accuracy: 0.7804 - val_loss: 0.6166 - val_accuracy: 0.7621\n",
            "Epoch 12/20\n",
            "245/245 [==============================] - 2s 10ms/step - loss: 0.5974 - accuracy: 0.7749 - val_loss: 0.6262 - val_accuracy: 0.7706\n",
            "Epoch 13/20\n",
            "245/245 [==============================] - 2s 10ms/step - loss: 0.6059 - accuracy: 0.7695 - val_loss: 0.5941 - val_accuracy: 0.7747\n",
            "Epoch 14/20\n",
            "245/245 [==============================] - 2s 10ms/step - loss: 0.5841 - accuracy: 0.7831 - val_loss: 0.5878 - val_accuracy: 0.7867\n",
            "Epoch 15/20\n",
            "245/245 [==============================] - 3s 10ms/step - loss: 0.5728 - accuracy: 0.7879 - val_loss: 0.5709 - val_accuracy: 0.7900\n",
            "Epoch 16/20\n",
            "245/245 [==============================] - 2s 10ms/step - loss: 0.5769 - accuracy: 0.7834 - val_loss: 0.5955 - val_accuracy: 0.7574\n",
            "Epoch 17/20\n",
            "245/245 [==============================] - 3s 11ms/step - loss: 0.5844 - accuracy: 0.7789 - val_loss: 0.5915 - val_accuracy: 0.7785\n",
            "Epoch 18/20\n",
            "245/245 [==============================] - 3s 10ms/step - loss: 0.5750 - accuracy: 0.7817 - val_loss: 0.5691 - val_accuracy: 0.7794\n",
            "Epoch 19/20\n",
            "245/245 [==============================] - 3s 11ms/step - loss: 0.5568 - accuracy: 0.7906 - val_loss: 0.5547 - val_accuracy: 0.7943\n",
            "Epoch 20/20\n",
            "245/245 [==============================] - 2s 10ms/step - loss: 0.5595 - accuracy: 0.7903 - val_loss: 0.5686 - val_accuracy: 0.7872\n",
            "313/313 [==============================] - 1s 2ms/step - loss: 0.5661 - accuracy: 0.7898\n",
            "Model - 4 layers - test loss: 0.5660644769668579\n",
            "Model - 4 layers - test accuracy: 78.97999882698059\n"
          ]
        }
      ]
    },
    {
      "cell_type": "code",
      "metadata": {
        "colab": {
          "base_uri": "https://localhost:8080/",
          "height": 312
        },
        "id": "pHcmdvUVRb86",
        "outputId": "b315c81c-f08e-421e-f3b4-28b389dc2cb4"
      },
      "source": [
        "plt.plot(NN_3b.history['loss'], 'blue')\n",
        "plt.plot(NN_3b.history['val_loss'], 'orange')\n",
        "plt.title('Model loss')\n",
        "plt.ylabel('loss')\n",
        "plt.xlabel('epoch')\n",
        "plt.legend(['train', 'validation'], loc='upper left')"
      ],
      "execution_count": 12,
      "outputs": [
        {
          "output_type": "execute_result",
          "data": {
            "text/plain": [
              "<matplotlib.legend.Legend at 0x7fe9efed6cd0>"
            ]
          },
          "metadata": {},
          "execution_count": 12
        },
        {
          "output_type": "display_data",
          "data": {
            "image/png": "[encoded data removed]",
            "text/plain": [
              "<Figure size 432x288 with 1 Axes>"
            ]
          },
          "metadata": {
            "needs_background": "light"
          }
        }
      ]
    },
    {
      "cell_type": "code",
      "metadata": {
        "colab": {
          "base_uri": "https://localhost:8080/",
          "height": 312
        },
        "id": "RNm2VmP3RgRR",
        "outputId": "4dcf9175-47dd-409b-f37f-693197a6b4be"
      },
      "source": [
        "plt.plot(NN_3b.history['accuracy'], 'blue')\n",
        "plt.plot(NN_3b.history['val_accuracy'], 'orange')\n",
        "plt.title('Model accuracy')\n",
        "plt.ylabel('accuracy')\n",
        "plt.xlabel('epoch')\n",
        "plt.legend(['train', 'validation'], loc='upper left')"
      ],
      "execution_count": 13,
      "outputs": [
        {
          "output_type": "execute_result",
          "data": {
            "text/plain": [
              "<matplotlib.legend.Legend at 0x7fe9f4c3bd50>"
            ]
          },
          "metadata": {},
          "execution_count": 13
        },
        {
          "output_type": "display_data",
          "data": {
            "image/png": "[encoded data removed]",
            "text/plain": [
              "<Figure size 432x288 with 1 Axes>"
            ]
          },
          "metadata": {
            "needs_background": "light"
          }
        }
      ]
    },
    {
      "cell_type": "markdown",
      "metadata": {
        "id": "3mE61fXaMCY1"
      },
      "source": [
        "**Model 1_3:** </br>\n",
        "1. 5 layers \n",
        "2. 256+128+32+16+10 nodes in total \n",
        "3. Activation- Tanh\n",
        "4. Loss- Categorical Cross Entropy\n",
        "5. Testing, training, , K-folds (5 folds) Cross Validation\n",
        "6. Time taken for 12 epochs- About 90s per fold, and 5 folds"
      ]
    },
    {
      "cell_type": "code",
      "metadata": {
        "colab": {
          "base_uri": "https://localhost:8080/"
        },
        "id": "-a1t1qBlSA3U",
        "outputId": "84f62164-0aff-46b1-8782-ea04a37b4b35"
      },
      "source": [
        "keras.backend.clear_session()\n",
        "\n",
        "seed = 7\n",
        "np.random.seed(seed)\n",
        "\n",
        "#For K-folds cross validation great sample https://www.machinecurve.com/index.php/2020/02/18/how-to-use-k-fold-cross-validation-with-keras/\n",
        "#concatenating the dataframes\n",
        "inputs = np.concatenate((X_train, X_test), axis=0)\n",
        "targets = np.concatenate((y_train, y_test), axis=0)\n",
        "#To hold the final values of accuracy and loss\n",
        "acc_per_fold = []\n",
        "loss_per_fold = []\n",
        "\n",
        "#K-Fold model- 5 fold cross validation\n",
        "kfold = KFold(n_splits= 5, shuffle=True)\n",
        "fold_no = 1\n",
        "for train, test in kfold.split(inputs, targets):\n",
        "  model_1_3 = keras.Sequential([\n",
        "    keras.layers.Dense(units=256, activation=tf.nn.tanh, input_shape=(784, )), #input layer\n",
        "    keras.layers.Dense(units=128, activation=tf.nn.tanh), #1 hidden layer\n",
        "    keras.layers.Dense(units=32, activation=tf.nn.tanh), #2 hidden layer\n",
        "    keras.layers.Dense(units=16, activation=tf.nn.tanh), #3 hidden layer\n",
        "    keras.layers.Dense(units=10, activation=tf.nn.softmax) #output layer\n",
        "  ])\n",
        "  model_1_3.summary() \n",
        "\n",
        "  model_1_3.compile(loss='categorical_crossentropy', metrics=['accuracy'])\n",
        "  print(f'Training for fold {fold_no} ...')\n",
        "\n",
        "  NN_3c = model_1_3.fit(inputs[train], targets[train], epochs=12)\n",
        "\n",
        "  scores = model_1_3.evaluate(inputs[test], targets[test])\n",
        "  print(f'Score for fold {fold_no}: {model_1_3.metrics_names[0]} of {scores[0]}; {model_1_3.metrics_names[1]} of {scores[1]*100}%')\n",
        "  acc_per_fold.append(scores[1] * 100)\n",
        "  loss_per_fold.append(scores[0])\n",
        "\n",
        "  fold_no = fold_no + 1"
      ],
      "execution_count": 14,
      "outputs": [
        {
          "output_type": "stream",
          "name": "stdout",
          "text": [
            "Model: \"sequential\"\n",
            "_________________________________________________________________\n",
            "Layer (type)                 Output Shape              Param #   \n",
            "=================================================================\n",
            "dense (Dense)                (None, 256)               200960    \n",
            "_________________________________________________________________\n",
            "dense_1 (Dense)              (None, 128)               32896     \n",
            "_________________________________________________________________\n",
            "dense_2 (Dense)              (None, 32)                4128      \n",
            "_________________________________________________________________\n",
            "dense_3 (Dense)              (None, 16)                528       \n",
            "_________________________________________________________________\n",
            "dense_4 (Dense)              (None, 10)                170       \n",
            "=================================================================\n",
            "Total params: 238,682\n",
            "Trainable params: 238,682\n",
            "Non-trainable params: 0\n",
            "_________________________________________________________________\n",
            "Training for fold 1 ...\n",
            "Epoch 1/12\n",
            "1750/1750 [==============================] - 11s 6ms/step - loss: 0.8273 - accuracy: 0.6908\n",
            "Epoch 2/12\n",
            "1750/1750 [==============================] - 11s 6ms/step - loss: 0.6831 - accuracy: 0.7384\n",
            "Epoch 3/12\n",
            "1750/1750 [==============================] - 10s 6ms/step - loss: 0.6436 - accuracy: 0.7582\n",
            "Epoch 4/12\n",
            "1750/1750 [==============================] - 9s 5ms/step - loss: 0.6357 - accuracy: 0.7642\n",
            "Epoch 5/12\n",
            "1750/1750 [==============================] - 10s 5ms/step - loss: 0.6209 - accuracy: 0.7711\n",
            "Epoch 6/12\n",
            "1750/1750 [==============================] - 11s 6ms/step - loss: 0.6027 - accuracy: 0.7810\n",
            "Epoch 7/12\n",
            "1750/1750 [==============================] - 10s 6ms/step - loss: 0.5888 - accuracy: 0.7836\n",
            "Epoch 8/12\n",
            "1750/1750 [==============================] - 10s 6ms/step - loss: 0.5801 - accuracy: 0.7885\n",
            "Epoch 9/12\n",
            "1750/1750 [==============================] - 11s 6ms/step - loss: 0.5714 - accuracy: 0.7906\n",
            "Epoch 10/12\n",
            "1750/1750 [==============================] - 10s 6ms/step - loss: 0.5732 - accuracy: 0.7886\n",
            "Epoch 11/12\n",
            "1750/1750 [==============================] - 10s 6ms/step - loss: 0.5698 - accuracy: 0.7921\n",
            "Epoch 12/12\n",
            "1750/1750 [==============================] - 10s 6ms/step - loss: 0.5577 - accuracy: 0.7966\n",
            "438/438 [==============================] - 1s 2ms/step - loss: 0.5420 - accuracy: 0.8016\n",
            "Score for fold 1: loss of 0.5419861078262329; accuracy of 80.15714287757874%\n",
            "Model: \"sequential_1\"\n",
            "_________________________________________________________________\n",
            "Layer (type)                 Output Shape              Param #   \n",
            "=================================================================\n",
            "dense_5 (Dense)              (None, 256)               200960    \n",
            "_________________________________________________________________\n",
            "dense_6 (Dense)              (None, 128)               32896     \n",
            "_________________________________________________________________\n",
            "dense_7 (Dense)              (None, 32)                4128      \n",
            "_________________________________________________________________\n",
            "dense_8 (Dense)              (None, 16)                528       \n",
            "_________________________________________________________________\n",
            "dense_9 (Dense)              (None, 10)                170       \n",
            "=================================================================\n",
            "Total params: 238,682\n",
            "Trainable params: 238,682\n",
            "Non-trainable params: 0\n",
            "_________________________________________________________________\n",
            "Training for fold 2 ...\n",
            "Epoch 1/12\n",
            "1750/1750 [==============================] - 10s 5ms/step - loss: 0.8125 - accuracy: 0.7002\n",
            "Epoch 2/12\n",
            "1750/1750 [==============================] - 10s 6ms/step - loss: 0.6895 - accuracy: 0.7383\n",
            "Epoch 3/12\n",
            "1750/1750 [==============================] - 11s 6ms/step - loss: 0.6548 - accuracy: 0.7569\n",
            "Epoch 4/12\n",
            "1750/1750 [==============================] - 10s 5ms/step - loss: 0.6319 - accuracy: 0.7655\n",
            "Epoch 5/12\n",
            "1750/1750 [==============================] - 9s 5ms/step - loss: 0.6119 - accuracy: 0.7737\n",
            "Epoch 6/12\n",
            "1750/1750 [==============================] - 10s 6ms/step - loss: 0.6044 - accuracy: 0.7756\n",
            "Epoch 7/12\n",
            "1750/1750 [==============================] - 9s 5ms/step - loss: 0.5855 - accuracy: 0.7835\n",
            "Epoch 8/12\n",
            "1750/1750 [==============================] - 9s 5ms/step - loss: 0.5808 - accuracy: 0.7887\n",
            "Epoch 9/12\n",
            "1750/1750 [==============================] - 10s 5ms/step - loss: 0.5859 - accuracy: 0.7872\n",
            "Epoch 10/12\n",
            "1750/1750 [==============================] - 10s 6ms/step - loss: 0.5624 - accuracy: 0.7939\n",
            "Epoch 11/12\n",
            "1750/1750 [==============================] - 9s 5ms/step - loss: 0.5674 - accuracy: 0.7915\n",
            "Epoch 12/12\n",
            "1750/1750 [==============================] - 12s 7ms/step - loss: 0.5569 - accuracy: 0.7995\n",
            "438/438 [==============================] - 1s 2ms/step - loss: 0.5827 - accuracy: 0.7776\n",
            "Score for fold 2: loss of 0.5826827883720398; accuracy of 77.76428461074829%\n",
            "Model: \"sequential_2\"\n",
            "_________________________________________________________________\n",
            "Layer (type)                 Output Shape              Param #   \n",
            "=================================================================\n",
            "dense_10 (Dense)             (None, 256)               200960    \n",
            "_________________________________________________________________\n",
            "dense_11 (Dense)             (None, 128)               32896     \n",
            "_________________________________________________________________\n",
            "dense_12 (Dense)             (None, 32)                4128      \n",
            "_________________________________________________________________\n",
            "dense_13 (Dense)             (None, 16)                528       \n",
            "_________________________________________________________________\n",
            "dense_14 (Dense)             (None, 10)                170       \n",
            "=================================================================\n",
            "Total params: 238,682\n",
            "Trainable params: 238,682\n",
            "Non-trainable params: 0\n",
            "_________________________________________________________________\n",
            "Training for fold 3 ...\n",
            "Epoch 1/12\n",
            "1750/1750 [==============================] - 11s 6ms/step - loss: 0.8423 - accuracy: 0.6890\n",
            "Epoch 2/12\n",
            "1750/1750 [==============================] - 10s 6ms/step - loss: 0.7040 - accuracy: 0.7343\n",
            "Epoch 3/12\n",
            "1750/1750 [==============================] - 10s 6ms/step - loss: 0.6582 - accuracy: 0.7551\n",
            "Epoch 4/12\n",
            "1750/1750 [==============================] - 10s 5ms/step - loss: 0.6302 - accuracy: 0.7682\n",
            "Epoch 5/12\n",
            "1750/1750 [==============================] - 9s 5ms/step - loss: 0.6179 - accuracy: 0.7744\n",
            "Epoch 6/12\n",
            "1750/1750 [==============================] - 9s 5ms/step - loss: 0.5928 - accuracy: 0.7811\n",
            "Epoch 7/12\n",
            "1750/1750 [==============================] - 9s 5ms/step - loss: 0.5899 - accuracy: 0.7842\n",
            "Epoch 8/12\n",
            "1750/1750 [==============================] - 9s 5ms/step - loss: 0.5787 - accuracy: 0.7899\n",
            "Epoch 9/12\n",
            "1750/1750 [==============================] - 9s 5ms/step - loss: 0.5646 - accuracy: 0.7964\n",
            "Epoch 10/12\n",
            "1750/1750 [==============================] - 10s 6ms/step - loss: 0.5662 - accuracy: 0.7954\n",
            "Epoch 11/12\n",
            "1750/1750 [==============================] - 10s 6ms/step - loss: 0.5721 - accuracy: 0.7938\n",
            "Epoch 12/12\n",
            "1750/1750 [==============================] - 10s 6ms/step - loss: 0.5622 - accuracy: 0.7963\n",
            "438/438 [==============================] - 1s 2ms/step - loss: 0.5752 - accuracy: 0.7919\n",
            "Score for fold 3: loss of 0.5752386450767517; accuracy of 79.19285893440247%\n",
            "Model: \"sequential_3\"\n",
            "_________________________________________________________________\n",
            "Layer (type)                 Output Shape              Param #   \n",
            "=================================================================\n",
            "dense_15 (Dense)             (None, 256)               200960    \n",
            "_________________________________________________________________\n",
            "dense_16 (Dense)             (None, 128)               32896     \n",
            "_________________________________________________________________\n",
            "dense_17 (Dense)             (None, 32)                4128      \n",
            "_________________________________________________________________\n",
            "dense_18 (Dense)             (None, 16)                528       \n",
            "_________________________________________________________________\n",
            "dense_19 (Dense)             (None, 10)                170       \n",
            "=================================================================\n",
            "Total params: 238,682\n",
            "Trainable params: 238,682\n",
            "Non-trainable params: 0\n",
            "_________________________________________________________________\n",
            "Training for fold 4 ...\n",
            "Epoch 1/12\n",
            "1750/1750 [==============================] - 10s 6ms/step - loss: 0.8272 - accuracy: 0.6941\n",
            "Epoch 2/12\n",
            "1750/1750 [==============================] - 10s 6ms/step - loss: 0.6799 - accuracy: 0.7441\n",
            "Epoch 3/12\n",
            "1750/1750 [==============================] - 9s 5ms/step - loss: 0.6455 - accuracy: 0.7589\n",
            "Epoch 4/12\n",
            "1750/1750 [==============================] - 10s 6ms/step - loss: 0.6169 - accuracy: 0.7750\n",
            "Epoch 5/12\n",
            "1750/1750 [==============================] - 10s 6ms/step - loss: 0.6074 - accuracy: 0.7770\n",
            "Epoch 6/12\n",
            "1750/1750 [==============================] - 10s 6ms/step - loss: 0.5978 - accuracy: 0.7827\n",
            "Epoch 7/12\n",
            "1750/1750 [==============================] - 10s 6ms/step - loss: 0.5860 - accuracy: 0.7859\n",
            "Epoch 8/12\n",
            "1750/1750 [==============================] - 10s 6ms/step - loss: 0.5743 - accuracy: 0.7893\n",
            "Epoch 9/12\n",
            "1750/1750 [==============================] - 10s 5ms/step - loss: 0.5784 - accuracy: 0.7869\n",
            "Epoch 10/12\n",
            "1750/1750 [==============================] - 9s 5ms/step - loss: 0.5606 - accuracy: 0.7944\n",
            "Epoch 11/12\n",
            "1750/1750 [==============================] - 9s 5ms/step - loss: 0.5542 - accuracy: 0.7982\n",
            "Epoch 12/12\n",
            "1750/1750 [==============================] - 10s 5ms/step - loss: 0.5444 - accuracy: 0.8023\n",
            "438/438 [==============================] - 1s 2ms/step - loss: 0.5274 - accuracy: 0.8038\n",
            "Score for fold 4: loss of 0.5273550748825073; accuracy of 80.37857413291931%\n",
            "Model: \"sequential_4\"\n",
            "_________________________________________________________________\n",
            "Layer (type)                 Output Shape              Param #   \n",
            "=================================================================\n",
            "dense_20 (Dense)             (None, 256)               200960    \n",
            "_________________________________________________________________\n",
            "dense_21 (Dense)             (None, 128)               32896     \n",
            "_________________________________________________________________\n",
            "dense_22 (Dense)             (None, 32)                4128      \n",
            "_________________________________________________________________\n",
            "dense_23 (Dense)             (None, 16)                528       \n",
            "_________________________________________________________________\n",
            "dense_24 (Dense)             (None, 10)                170       \n",
            "=================================================================\n",
            "Total params: 238,682\n",
            "Trainable params: 238,682\n",
            "Non-trainable params: 0\n",
            "_________________________________________________________________\n",
            "Training for fold 5 ...\n",
            "Epoch 1/12\n",
            "1750/1750 [==============================] - 10s 6ms/step - loss: 0.8216 - accuracy: 0.6979\n",
            "Epoch 2/12\n",
            "1750/1750 [==============================] - 9s 5ms/step - loss: 0.6791 - accuracy: 0.7412\n",
            "Epoch 3/12\n",
            "1750/1750 [==============================] - 9s 5ms/step - loss: 0.6373 - accuracy: 0.7633\n",
            "Epoch 4/12\n",
            "1750/1750 [==============================] - 10s 6ms/step - loss: 0.6065 - accuracy: 0.7773\n",
            "Epoch 5/12\n",
            "1750/1750 [==============================] - 10s 5ms/step - loss: 0.5918 - accuracy: 0.7810\n",
            "Epoch 6/12\n",
            "1750/1750 [==============================] - 10s 6ms/step - loss: 0.5864 - accuracy: 0.7838\n",
            "Epoch 7/12\n",
            "1750/1750 [==============================] - 9s 5ms/step - loss: 0.5731 - accuracy: 0.7896\n",
            "Epoch 8/12\n",
            "1750/1750 [==============================] - 9s 5ms/step - loss: 0.5704 - accuracy: 0.7891\n",
            "Epoch 9/12\n",
            "1750/1750 [==============================] - 10s 5ms/step - loss: 0.5700 - accuracy: 0.7918\n",
            "Epoch 10/12\n",
            "1750/1750 [==============================] - 10s 6ms/step - loss: 0.5646 - accuracy: 0.7928\n",
            "Epoch 11/12\n",
            "1750/1750 [==============================] - 9s 5ms/step - loss: 0.5532 - accuracy: 0.8009\n",
            "Epoch 12/12\n",
            "1750/1750 [==============================] - 9s 5ms/step - loss: 0.5511 - accuracy: 0.8012\n",
            "438/438 [==============================] - 1s 2ms/step - loss: 0.5697 - accuracy: 0.7936\n",
            "Score for fold 5: loss of 0.569739043712616; accuracy of 79.3571412563324%\n"
          ]
        }
      ]
    },
    {
      "cell_type": "code",
      "metadata": {
        "colab": {
          "base_uri": "https://localhost:8080/"
        },
        "id": "N4G69tGn4vjC",
        "outputId": "005d20b6-a084-43f7-f4cb-f6edf5dbdd26"
      },
      "source": [
        "# Provide average scores\n",
        "print('------------------------------------------------------------------------')\n",
        "print('Score per fold')\n",
        "for i in range(0, len(acc_per_fold)):\n",
        "  print('------------------------------------------------------------------------')\n",
        "  print(f'> Fold {i+1} - Loss: {loss_per_fold[i]} - Accuracy: {acc_per_fold[i]}%')\n",
        "print('------------------------------------------------------------------------')\n",
        "print('Average scores for all folds:')\n",
        "print(f'> Accuracy: {np.mean(acc_per_fold)} (+- {np.std(acc_per_fold)})')\n",
        "print(f'> Loss: {np.mean(loss_per_fold)}')\n",
        "print('------------------------------------------------------------------------')"
      ],
      "execution_count": 15,
      "outputs": [
        {
          "output_type": "stream",
          "name": "stdout",
          "text": [
            "------------------------------------------------------------------------\n",
            "Score per fold\n",
            "------------------------------------------------------------------------\n",
            "> Fold 1 - Loss: 0.5419861078262329 - Accuracy: 80.15714287757874%\n",
            "------------------------------------------------------------------------\n",
            "> Fold 2 - Loss: 0.5826827883720398 - Accuracy: 77.76428461074829%\n",
            "------------------------------------------------------------------------\n",
            "> Fold 3 - Loss: 0.5752386450767517 - Accuracy: 79.19285893440247%\n",
            "------------------------------------------------------------------------\n",
            "> Fold 4 - Loss: 0.5273550748825073 - Accuracy: 80.37857413291931%\n",
            "------------------------------------------------------------------------\n",
            "> Fold 5 - Loss: 0.569739043712616 - Accuracy: 79.3571412563324%\n",
            "------------------------------------------------------------------------\n",
            "Average scores for all folds:\n",
            "> Accuracy: 79.37000036239624 (+- 0.9215944777401526)\n",
            "> Loss: 0.5594003319740295\n",
            "------------------------------------------------------------------------\n"
          ]
        }
      ]
    },
    {
      "cell_type": "code",
      "metadata": {
        "colab": {
          "base_uri": "https://localhost:8080/",
          "height": 312
        },
        "id": "yBiX3kBCSPjA",
        "outputId": "b65793e0-e41c-4ed1-eb97-4cfd838d2848"
      },
      "source": [
        "#For fold 5\n",
        "plt.plot(NN_3c.history['loss'], 'blue')\n",
        "plt.title('Model loss')\n",
        "plt.ylabel('loss')\n",
        "plt.xlabel('epoch')\n",
        "plt.legend(['train'], loc='upper left')"
      ],
      "execution_count": 16,
      "outputs": [
        {
          "output_type": "execute_result",
          "data": {
            "text/plain": [
              "<matplotlib.legend.Legend at 0x7fe9ee28dd10>"
            ]
          },
          "metadata": {},
          "execution_count": 16
        },
        {
          "output_type": "display_data",
          "data": {
            "image/png": "[encoded data removed]",
            "text/plain": [
              "<Figure size 432x288 with 1 Axes>"
            ]
          },
          "metadata": {
            "needs_background": "light"
          }
        }
      ]
    },
    {
      "cell_type": "code",
      "metadata": {
        "colab": {
          "base_uri": "https://localhost:8080/",
          "height": 312
        },
        "id": "7FW4-H4aSSP1",
        "outputId": "5f1d3f56-b0de-4174-e43d-1eef57931cc0"
      },
      "source": [
        "#For fold 5\n",
        "plt.plot(NN_3c.history['accuracy'], 'blue')\n",
        "plt.title('Model accuracy')\n",
        "plt.ylabel('accuracy')\n",
        "plt.xlabel('epoch')\n",
        "plt.legend(['train'], loc='upper left')"
      ],
      "execution_count": 17,
      "outputs": [
        {
          "output_type": "execute_result",
          "data": {
            "text/plain": [
              "<matplotlib.legend.Legend at 0x7fe9ee301090>"
            ]
          },
          "metadata": {},
          "execution_count": 17
        },
        {
          "output_type": "display_data",
          "data": {
            "image/png": "[encoded data removed]",
            "text/plain": [
              "<Figure size 432x288 with 1 Axes>"
            ]
          },
          "metadata": {
            "needs_background": "light"
          }
        }
      ]
    },
    {
      "cell_type": "markdown",
      "metadata": {
        "id": "hU2it75vMLf9"
      },
      "source": [
        "**Model 1_4:** </br>\n",
        "1. 6 layers \n",
        "2. 256+32+128+32+16+10 nodes in total \n",
        "3. Activation- ReLU\n",
        "4. Loss- KL Divergence\n",
        "5. Testing, Training, validation \n",
        "6. Time taken for 15 epochs- about 120s"
      ]
    },
    {
      "cell_type": "code",
      "metadata": {
        "id": "YLbDWQVVaQgj",
        "colab": {
          "base_uri": "https://localhost:8080/"
        },
        "outputId": "85e9220e-b9c4-41ea-dfb3-f649eaf2471d"
      },
      "source": [
        "keras.backend.clear_session()\n",
        "\n",
        "seed = 7\n",
        "np.random.seed(seed)\n",
        "\n",
        "model_1_4 = keras.Sequential([\n",
        "    keras.layers.Dense(units=256, activation=tf.nn.relu, input_shape=(784, )), #input layer\n",
        "    keras.layers.Dense(units=32, activation=tf.nn.relu), #1 hidden layer\n",
        "    keras.layers.Dense(units=128, activation=tf.nn.relu), #2 hidden layer  \n",
        "    #I speculate that this network will perform bad cause the neurons are increasing in the next layer and loss of data thus happens. BUT THAT'S NOT THE CASE AFTER TESTING\n",
        "    #The model gets more adaptive, so it can learn smaller details. But this means not necessary, that your classifier is then better on the 'next dataset'. \n",
        "    #The model gets more affected to over-fitting and so the generalization of you classification model can also decrease, e.g. your classifier will work worse on the next dataset.\n",
        "    keras.layers.Dense(units=32, activation=tf.nn.relu), #3 hidden layer\n",
        "    keras.layers.Dense(units=16, activation=tf.nn.relu), #4 hidden layer\n",
        "    keras.layers.Dense(units=10, activation=tf.nn.softmax) #output layer\n",
        "])\n",
        "model_1_4.summary() \n",
        "\n",
        "model_1_4.compile(loss='kl_divergence', metrics=['accuracy'])"
      ],
      "execution_count": 76,
      "outputs": [
        {
          "output_type": "stream",
          "name": "stdout",
          "text": [
            "Model: \"sequential\"\n",
            "_________________________________________________________________\n",
            "Layer (type)                 Output Shape              Param #   \n",
            "=================================================================\n",
            "dense (Dense)                (None, 256)               200960    \n",
            "_________________________________________________________________\n",
            "dense_1 (Dense)              (None, 32)                8224      \n",
            "_________________________________________________________________\n",
            "dense_2 (Dense)              (None, 128)               4224      \n",
            "_________________________________________________________________\n",
            "dense_3 (Dense)              (None, 32)                4128      \n",
            "_________________________________________________________________\n",
            "dense_4 (Dense)              (None, 16)                528       \n",
            "_________________________________________________________________\n",
            "dense_5 (Dense)              (None, 10)                170       \n",
            "=================================================================\n",
            "Total params: 218,234\n",
            "Trainable params: 218,234\n",
            "Non-trainable params: 0\n",
            "_________________________________________________________________\n"
          ]
        }
      ]
    },
    {
      "cell_type": "code",
      "metadata": {
        "colab": {
          "base_uri": "https://localhost:8080/"
        },
        "id": "2tD9kinK5DMD",
        "outputId": "01c0e080-4ccb-4dc8-fc37-3cd15c0911f3"
      },
      "source": [
        "NN_6 = model_1_4.fit(X_train, y_train, epochs=15, validation_split=0.2)\n",
        "\n",
        "test_loss, test_acc = model_1_4.evaluate(X_test, y_test)\n",
        "print(\"Model - 6 layers - test loss:\", test_loss)\n",
        "print(\"Model - 6 layers - test accuracy:\", test_acc * 100)"
      ],
      "execution_count": 77,
      "outputs": [
        {
          "output_type": "stream",
          "name": "stdout",
          "text": [
            "Epoch 1/15\n",
            "1500/1500 [==============================] - 9s 5ms/step - loss: 3.7795 - accuracy: 0.5456 - val_loss: 0.7482 - val_accuracy: 0.7509\n",
            "Epoch 2/15\n",
            "1500/1500 [==============================] - 8s 5ms/step - loss: 0.6886 - accuracy: 0.7570 - val_loss: 0.6121 - val_accuracy: 0.7640\n",
            "Epoch 3/15\n",
            "1500/1500 [==============================] - 8s 5ms/step - loss: 0.6304 - accuracy: 0.7907 - val_loss: 0.6765 - val_accuracy: 0.7759\n",
            "Epoch 4/15\n",
            "1500/1500 [==============================] - 8s 5ms/step - loss: 0.6298 - accuracy: 0.7977 - val_loss: 0.5893 - val_accuracy: 0.7993\n",
            "Epoch 5/15\n",
            "1500/1500 [==============================] - 8s 5ms/step - loss: 0.6259 - accuracy: 0.8010 - val_loss: 0.7681 - val_accuracy: 0.7924\n",
            "Epoch 6/15\n",
            "1500/1500 [==============================] - 8s 5ms/step - loss: 0.6106 - accuracy: 0.8061 - val_loss: 0.6361 - val_accuracy: 0.7983\n",
            "Epoch 7/15\n",
            "1500/1500 [==============================] - 8s 5ms/step - loss: 0.6055 - accuracy: 0.8147 - val_loss: 0.7089 - val_accuracy: 0.7993\n",
            "Epoch 8/15\n",
            "1500/1500 [==============================] - 8s 5ms/step - loss: 0.6675 - accuracy: 0.8056 - val_loss: 0.6567 - val_accuracy: 0.7854\n",
            "Epoch 9/15\n",
            "1500/1500 [==============================] - 8s 5ms/step - loss: 0.7403 - accuracy: 0.7806 - val_loss: 1.3936 - val_accuracy: 0.7333\n",
            "Epoch 10/15\n",
            "1500/1500 [==============================] - 8s 5ms/step - loss: 0.8041 - accuracy: 0.7637 - val_loss: 0.8383 - val_accuracy: 0.7257\n",
            "Epoch 11/15\n",
            "1500/1500 [==============================] - 8s 5ms/step - loss: 0.8036 - accuracy: 0.7691 - val_loss: 0.8490 - val_accuracy: 0.8094\n",
            "Epoch 12/15\n",
            "1500/1500 [==============================] - 8s 5ms/step - loss: 0.8482 - accuracy: 0.7664 - val_loss: 0.7757 - val_accuracy: 0.7542\n",
            "Epoch 13/15\n",
            "1500/1500 [==============================] - 8s 5ms/step - loss: 0.8522 - accuracy: 0.7714 - val_loss: 0.8366 - val_accuracy: 0.7933\n",
            "Epoch 14/15\n",
            "1500/1500 [==============================] - 8s 5ms/step - loss: 0.9362 - accuracy: 0.7567 - val_loss: 0.7923 - val_accuracy: 0.7833\n",
            "Epoch 15/15\n",
            "1500/1500 [==============================] - 8s 5ms/step - loss: 0.9452 - accuracy: 0.7409 - val_loss: 0.9250 - val_accuracy: 0.7181\n",
            "313/313 [==============================] - 1s 2ms/step - loss: 0.9255 - accuracy: 0.7200\n",
            "Model - 6 layers - test loss: 0.9254748821258545\n",
            "Model - 6 layers - test accuracy: 72.00000286102295\n"
          ]
        }
      ]
    },
    {
      "cell_type": "code",
      "metadata": {
        "colab": {
          "base_uri": "https://localhost:8080/",
          "height": 312
        },
        "id": "q7qdXhzH5FhT",
        "outputId": "d326eb08-9f89-453e-b378-2018855248ed"
      },
      "source": [
        "plt.plot(NN_6.history['loss'], 'blue')\n",
        "plt.plot(NN_6.history['val_loss'], 'orange')\n",
        "plt.title('Model loss')\n",
        "plt.ylabel('loss')\n",
        "plt.xlabel('epoch')\n",
        "plt.legend(['train', 'validation'], loc='upper left')"
      ],
      "execution_count": 78,
      "outputs": [
        {
          "output_type": "execute_result",
          "data": {
            "text/plain": [
              "<matplotlib.legend.Legend at 0x7fe9ea7762d0>"
            ]
          },
          "metadata": {},
          "execution_count": 78
        },
        {
          "output_type": "display_data",
          "data": {
            "image/png": "[encoded data removed]",
            "text/plain": [
              "<Figure size 432x288 with 1 Axes>"
            ]
          },
          "metadata": {
            "needs_background": "light"
          }
        }
      ]
    },
    {
      "cell_type": "code",
      "metadata": {
        "colab": {
          "base_uri": "https://localhost:8080/",
          "height": 312
        },
        "id": "YRj5-qh75IA1",
        "outputId": "44c04e58-e9ca-4bd5-9812-eae1ccbc58f9"
      },
      "source": [
        "plt.plot(NN_6.history['accuracy'], 'blue')\n",
        "plt.plot(NN_6.history['val_accuracy'], 'orange')\n",
        "plt.title('Model accuracy')\n",
        "plt.ylabel('accuracy')\n",
        "plt.xlabel('epoch')\n",
        "plt.legend(['train', 'validation'], loc='upper left')"
      ],
      "execution_count": 79,
      "outputs": [
        {
          "output_type": "execute_result",
          "data": {
            "text/plain": [
              "<matplotlib.legend.Legend at 0x7fe9ec89fe90>"
            ]
          },
          "metadata": {},
          "execution_count": 79
        },
        {
          "output_type": "display_data",
          "data": {
            "image/png": "[encoded data removed]",
            "text/plain": [
              "<Figure size 432x288 with 1 Axes>"
            ]
          },
          "metadata": {
            "needs_background": "light"
          }
        }
      ]
    },
    {
      "cell_type": "markdown",
      "metadata": {
        "id": "wm1eEgKZa1ey"
      },
      "source": [
        "**Model 1_5:** (same as 1_4 but comparing if the model does better when number of neurons decsreasing as usual)</br>\n",
        "1. 6 layers \n",
        "2. 256+128+64+32+16+10 nodes in total \n",
        "3. Activation- ReLU\n",
        "4. Loss- KL Divergence\n",
        "5. Testing, Training, Validation\n",
        "6. Time taken for 15 epochs- 120s"
      ]
    },
    {
      "cell_type": "code",
      "metadata": {
        "id": "AGh4cFrVawx_",
        "colab": {
          "base_uri": "https://localhost:8080/"
        },
        "outputId": "393b1fdb-d49d-4d5b-8e80-507484c40802"
      },
      "source": [
        "keras.backend.clear_session()\n",
        "\n",
        "model_1_5 = keras.Sequential([\n",
        "    keras.layers.Dense(units=256, activation=tf.nn.relu, input_shape=(784, )), #input layer\n",
        "    keras.layers.Dense(units=128, activation=tf.nn.relu, kernel_initializer=\"he_normal\"), #1 hidden layer\n",
        "    keras.layers.Dense(units=64, activation=tf.nn.relu, kernel_initializer=\"he_normal\"), #2 hidden layer \n",
        "    keras.layers.Dense(units=32, activation=tf.nn.relu, kernel_initializer=\"he_normal\"), #3 hidden layer\n",
        "    keras.layers.Dense(units=16, activation=tf.nn.relu, kernel_initializer=\"he_normal\"), #4 hidden layer\n",
        "    keras.layers.Dense(units=10, activation=tf.nn.softmax,) #output layer\n",
        "])\n",
        "model_1_5.summary() \n",
        "\n",
        "model_1_5.compile(loss='kl_divergence', metrics=['accuracy'])"
      ],
      "execution_count": 22,
      "outputs": [
        {
          "output_type": "stream",
          "name": "stdout",
          "text": [
            "Model: \"sequential\"\n",
            "_________________________________________________________________\n",
            "Layer (type)                 Output Shape              Param #   \n",
            "=================================================================\n",
            "dense (Dense)                (None, 256)               200960    \n",
            "_________________________________________________________________\n",
            "dense_1 (Dense)              (None, 128)               32896     \n",
            "_________________________________________________________________\n",
            "dense_2 (Dense)              (None, 64)                8256      \n",
            "_________________________________________________________________\n",
            "dense_3 (Dense)              (None, 32)                2080      \n",
            "_________________________________________________________________\n",
            "dense_4 (Dense)              (None, 16)                528       \n",
            "_________________________________________________________________\n",
            "dense_5 (Dense)              (None, 10)                170       \n",
            "=================================================================\n",
            "Total params: 244,890\n",
            "Trainable params: 244,890\n",
            "Non-trainable params: 0\n",
            "_________________________________________________________________\n"
          ]
        }
      ]
    },
    {
      "cell_type": "code",
      "metadata": {
        "id": "7tBt07CV-JK-",
        "colab": {
          "base_uri": "https://localhost:8080/"
        },
        "outputId": "5d15824a-d5a5-49bf-9c85-e50a8270b31c"
      },
      "source": [
        "NN_6b = model_1_5.fit(X_train, y_train, epochs=15, validation_split=0.2)\n",
        "\n",
        "test_loss, test_acc = model_1_5.evaluate(X_test, y_test)\n",
        "print(\"Model - 6 layers - test loss:\", test_loss)\n",
        "print(\"Model - 6 layers - test accuracy:\", test_acc * 100)"
      ],
      "execution_count": 23,
      "outputs": [
        {
          "output_type": "stream",
          "name": "stdout",
          "text": [
            "Epoch 1/15\n",
            "1500/1500 [==============================] - 10s 6ms/step - loss: 14.4877 - accuracy: 0.1010 - val_loss: 14.4239 - val_accuracy: 0.1048\n",
            "Epoch 2/15\n",
            "1500/1500 [==============================] - 9s 6ms/step - loss: 14.3809 - accuracy: 0.1077 - val_loss: 14.4902 - val_accuracy: 0.1010\n",
            "Epoch 3/15\n",
            "1500/1500 [==============================] - 11s 7ms/step - loss: 14.5104 - accuracy: 0.0997 - val_loss: 14.4902 - val_accuracy: 0.1010\n",
            "Epoch 4/15\n",
            "1500/1500 [==============================] - 9s 6ms/step - loss: 14.5104 - accuracy: 0.0997 - val_loss: 14.4902 - val_accuracy: 0.1010\n",
            "Epoch 5/15\n",
            "1500/1500 [==============================] - 9s 6ms/step - loss: 14.5104 - accuracy: 0.0997 - val_loss: 14.4902 - val_accuracy: 0.1010\n",
            "Epoch 6/15\n",
            "1500/1500 [==============================] - 9s 6ms/step - loss: 14.5104 - accuracy: 0.0997 - val_loss: 14.4902 - val_accuracy: 0.1010\n",
            "Epoch 7/15\n",
            "1500/1500 [==============================] - 9s 6ms/step - loss: 14.5104 - accuracy: 0.0997 - val_loss: 14.4902 - val_accuracy: 0.1010\n",
            "Epoch 8/15\n",
            "1500/1500 [==============================] - 9s 6ms/step - loss: 14.5104 - accuracy: 0.0997 - val_loss: 14.4902 - val_accuracy: 0.1010\n",
            "Epoch 9/15\n",
            "1500/1500 [==============================] - 9s 6ms/step - loss: 14.5104 - accuracy: 0.0997 - val_loss: 14.4902 - val_accuracy: 0.1010\n",
            "Epoch 10/15\n",
            "1500/1500 [==============================] - 9s 6ms/step - loss: 14.5104 - accuracy: 0.0997 - val_loss: 14.4902 - val_accuracy: 0.1010\n",
            "Epoch 11/15\n",
            "1500/1500 [==============================] - 9s 6ms/step - loss: 14.5104 - accuracy: 0.0997 - val_loss: 14.4902 - val_accuracy: 0.1010\n",
            "Epoch 12/15\n",
            "1500/1500 [==============================] - 9s 6ms/step - loss: 14.5104 - accuracy: 0.0997 - val_loss: 14.4902 - val_accuracy: 0.1010\n",
            "Epoch 13/15\n",
            "1500/1500 [==============================] - 10s 6ms/step - loss: 14.5104 - accuracy: 0.0997 - val_loss: 14.4902 - val_accuracy: 0.1010\n",
            "Epoch 14/15\n",
            "1500/1500 [==============================] - 10s 6ms/step - loss: 14.5104 - accuracy: 0.0997 - val_loss: 14.4902 - val_accuracy: 0.1010\n",
            "Epoch 15/15\n",
            "1500/1500 [==============================] - 10s 6ms/step - loss: 14.5104 - accuracy: 0.0997 - val_loss: 14.4902 - val_accuracy: 0.1010\n",
            "313/313 [==============================] - 1s 3ms/step - loss: 14.5063 - accuracy: 0.1000\n",
            "Model - 6 layers - test loss: 14.506265640258789\n",
            "Model - 6 layers - test accuracy: 10.000000149011612\n"
          ]
        }
      ]
    },
    {
      "cell_type": "code",
      "metadata": {
        "colab": {
          "base_uri": "https://localhost:8080/",
          "height": 312
        },
        "id": "JId9EFg_5njj",
        "outputId": "5c3891aa-937e-409a-b8d0-3fb22ccfef2f"
      },
      "source": [
        "plt.plot(NN_6b.history['loss'], 'blue')\n",
        "plt.plot(NN_6.history['val_loss'], 'orange')\n",
        "plt.title('Model loss')\n",
        "plt.ylabel('loss')\n",
        "plt.xlabel('epoch')\n",
        "plt.legend(['train', 'validation'], loc='upper left')"
      ],
      "execution_count": 24,
      "outputs": [
        {
          "output_type": "execute_result",
          "data": {
            "text/plain": [
              "<matplotlib.legend.Legend at 0x7fe9f0562610>"
            ]
          },
          "metadata": {},
          "execution_count": 24
        },
        {
          "output_type": "display_data",
          "data": {
            "image/png": "[encoded data removed]",
            "text/plain": [
              "<Figure size 432x288 with 1 Axes>"
            ]
          },
          "metadata": {
            "needs_background": "light"
          }
        }
      ]
    },
    {
      "cell_type": "code",
      "metadata": {
        "colab": {
          "base_uri": "https://localhost:8080/",
          "height": 312
        },
        "id": "rfIGPX_O5pyY",
        "outputId": "4c3e51c5-1a27-4742-e2a6-7e433feba528"
      },
      "source": [
        "plt.plot(NN_6b.history['accuracy'], 'blue')\n",
        "plt.plot(NN_6.history['val_accuracy'], 'orange')\n",
        "plt.title('Model accuracy')\n",
        "plt.ylabel('accuracy')\n",
        "plt.xlabel('epoch')\n",
        "plt.legend(['train', 'validation'], loc='upper left')"
      ],
      "execution_count": 25,
      "outputs": [
        {
          "output_type": "execute_result",
          "data": {
            "text/plain": [
              "<matplotlib.legend.Legend at 0x7fe9f032e050>"
            ]
          },
          "metadata": {},
          "execution_count": 25
        },
        {
          "output_type": "display_data",
          "data": {
            "image/png": "[encoded data removed]",
            "text/plain": [
              "<Figure size 432x288 with 1 Axes>"
            ]
          },
          "metadata": {
            "needs_background": "light"
          }
        }
      ]
    },
    {
      "cell_type": "markdown",
      "metadata": {
        "id": "BzcK4XqU-zaa"
      },
      "source": [
        "**Model 1_6:** </br>\n",
        "1. 4 layers \n",
        "2. 128+64+32+10 nodes in total \n",
        "3. Activation- Leaky_ReLU\n",
        "4. Loss- KL Divergence\n",
        "5. adam optimizer\n",
        "6. Testing, training, Validation (aka Hold-Out Validation)\n",
        "7. Tested in batches (Not necessary cause small model anyways)\n",
        "8. Time taken for 20 epochs- 41s"
      ]
    },
    {
      "cell_type": "code",
      "metadata": {
        "colab": {
          "base_uri": "https://localhost:8080/"
        },
        "id": "MP-4C6o9-za1",
        "outputId": "3ce23888-c969-43e7-a234-2fda2b7d7d28"
      },
      "source": [
        "keras.backend.clear_session()\n",
        "\n",
        "seed = 7\n",
        "np.random.seed(seed)\n",
        "\n",
        "model_1_6 = keras.Sequential([\n",
        "    keras.layers.Dense(units=128, activation=tf.nn.leaky_relu, input_shape=(784, )), #input layer\n",
        "    keras.layers.Dense(units=64, activation=tf.nn.leaky_relu), #1 hidden layer\n",
        "    keras.layers.Dense(units=32, activation=tf.nn.leaky_relu), #2 hidden layer\n",
        "    keras.layers.Dense(units=10, activation=tf.nn.softmax) #output layer\n",
        "])\n",
        "model_1_6.summary() \n",
        "\n",
        "model_1_6.compile(optimizer=\"adam\", loss='kl_divergence', metrics=['accuracy'])"
      ],
      "execution_count": 26,
      "outputs": [
        {
          "output_type": "stream",
          "name": "stdout",
          "text": [
            "Model: \"sequential\"\n",
            "_________________________________________________________________\n",
            "Layer (type)                 Output Shape              Param #   \n",
            "=================================================================\n",
            "dense (Dense)                (None, 128)               100480    \n",
            "_________________________________________________________________\n",
            "dense_1 (Dense)              (None, 64)                8256      \n",
            "_________________________________________________________________\n",
            "dense_2 (Dense)              (None, 32)                2080      \n",
            "_________________________________________________________________\n",
            "dense_3 (Dense)              (None, 10)                330       \n",
            "=================================================================\n",
            "Total params: 111,146\n",
            "Trainable params: 111,146\n",
            "Non-trainable params: 0\n",
            "_________________________________________________________________\n"
          ]
        }
      ]
    },
    {
      "cell_type": "code",
      "metadata": {
        "colab": {
          "base_uri": "https://localhost:8080/"
        },
        "id": "YgvznSW7-za2",
        "outputId": "d7e16eeb-b61b-4155-df72-68c7ac7bdffa"
      },
      "source": [
        "NN_3g = model_1_6.fit(X_train, y_train, epochs=20, batch_size=196, validation_split=0.2)\n",
        "\n",
        "test_loss, test_acc = model_1_6.evaluate(X_test, y_test)\n",
        "print(\"Model - 4 layers - test loss:\", test_loss)\n",
        "print(\"Model - 4 layers - test accuracy:\", test_acc * 100)"
      ],
      "execution_count": 27,
      "outputs": [
        {
          "output_type": "stream",
          "name": "stdout",
          "text": [
            "Epoch 1/20\n",
            "245/245 [==============================] - 3s 9ms/step - loss: 12.9388 - accuracy: 0.1970 - val_loss: 12.8757 - val_accuracy: 0.2012\n",
            "Epoch 2/20\n",
            "245/245 [==============================] - 2s 7ms/step - loss: 12.9068 - accuracy: 0.1992 - val_loss: 12.8934 - val_accuracy: 0.1999\n",
            "Epoch 3/20\n",
            "245/245 [==============================] - 2s 7ms/step - loss: 12.9136 - accuracy: 0.1986 - val_loss: 12.9751 - val_accuracy: 0.1950\n",
            "Epoch 4/20\n",
            "245/245 [==============================] - 2s 8ms/step - loss: 12.8948 - accuracy: 0.2000 - val_loss: 12.9751 - val_accuracy: 0.1950\n",
            "Epoch 5/20\n",
            "245/245 [==============================] - 2s 8ms/step - loss: 12.8948 - accuracy: 0.2000 - val_loss: 12.9751 - val_accuracy: 0.1950\n",
            "Epoch 6/20\n",
            "245/245 [==============================] - 2s 7ms/step - loss: 12.8948 - accuracy: 0.2000 - val_loss: 12.9751 - val_accuracy: 0.1950\n",
            "Epoch 7/20\n",
            "245/245 [==============================] - 2s 7ms/step - loss: 12.8948 - accuracy: 0.2000 - val_loss: 12.9751 - val_accuracy: 0.1950\n",
            "Epoch 8/20\n",
            "245/245 [==============================] - 2s 7ms/step - loss: 12.8948 - accuracy: 0.2000 - val_loss: 12.9751 - val_accuracy: 0.1950\n",
            "Epoch 9/20\n",
            "245/245 [==============================] - 2s 7ms/step - loss: 12.8948 - accuracy: 0.2000 - val_loss: 12.9751 - val_accuracy: 0.1950\n",
            "Epoch 10/20\n",
            "245/245 [==============================] - 2s 7ms/step - loss: 12.8948 - accuracy: 0.2000 - val_loss: 12.9751 - val_accuracy: 0.1950\n",
            "Epoch 11/20\n",
            "245/245 [==============================] - 2s 7ms/step - loss: 12.8948 - accuracy: 0.2000 - val_loss: 12.9751 - val_accuracy: 0.1950\n",
            "Epoch 12/20\n",
            "245/245 [==============================] - 2s 8ms/step - loss: 12.8948 - accuracy: 0.2000 - val_loss: 12.9751 - val_accuracy: 0.1950\n",
            "Epoch 13/20\n",
            "245/245 [==============================] - 2s 8ms/step - loss: 12.8948 - accuracy: 0.2000 - val_loss: 12.9751 - val_accuracy: 0.1950\n",
            "Epoch 14/20\n",
            "245/245 [==============================] - 2s 7ms/step - loss: 12.8948 - accuracy: 0.2000 - val_loss: 12.9751 - val_accuracy: 0.1950\n",
            "Epoch 15/20\n",
            "245/245 [==============================] - 2s 7ms/step - loss: 12.8948 - accuracy: 0.2000 - val_loss: 12.9751 - val_accuracy: 0.1950\n",
            "Epoch 16/20\n",
            "245/245 [==============================] - 2s 7ms/step - loss: 12.8948 - accuracy: 0.2000 - val_loss: 12.9751 - val_accuracy: 0.1950\n",
            "Epoch 17/20\n",
            "245/245 [==============================] - 2s 7ms/step - loss: 12.8948 - accuracy: 0.2000 - val_loss: 12.9751 - val_accuracy: 0.1950\n",
            "Epoch 18/20\n",
            "245/245 [==============================] - 2s 8ms/step - loss: 12.8948 - accuracy: 0.2000 - val_loss: 12.9751 - val_accuracy: 0.1950\n",
            "Epoch 19/20\n",
            "245/245 [==============================] - 2s 7ms/step - loss: 12.8948 - accuracy: 0.2000 - val_loss: 12.9751 - val_accuracy: 0.1950\n",
            "Epoch 20/20\n",
            "245/245 [==============================] - 2s 8ms/step - loss: 12.8948 - accuracy: 0.2000 - val_loss: 12.9751 - val_accuracy: 0.1950\n",
            "313/313 [==============================] - 1s 2ms/step - loss: 12.9074 - accuracy: 0.1992\n",
            "Model - 4 layers - test loss: 12.907368659973145\n",
            "Model - 4 layers - test accuracy: 19.920000433921814\n"
          ]
        }
      ]
    },
    {
      "cell_type": "code",
      "metadata": {
        "colab": {
          "base_uri": "https://localhost:8080/",
          "height": 312
        },
        "id": "W4mVNntP-za3",
        "outputId": "5b64dee4-a042-469c-8bc2-7d90f14f27d7"
      },
      "source": [
        "plt.plot(NN_3g.history['loss'], 'blue')\n",
        "plt.plot(NN_3g.history['val_loss'], 'orange')\n",
        "plt.title('Model loss')\n",
        "plt.ylabel('loss')\n",
        "plt.xlabel('epoch')\n",
        "plt.legend(['train', 'validation'], loc='upper left')"
      ],
      "execution_count": 28,
      "outputs": [
        {
          "output_type": "execute_result",
          "data": {
            "text/plain": [
              "<matplotlib.legend.Legend at 0x7fe9f0710690>"
            ]
          },
          "metadata": {},
          "execution_count": 28
        },
        {
          "output_type": "display_data",
          "data": {
            "image/png": "[encoded data removed]",
            "text/plain": [
              "<Figure size 432x288 with 1 Axes>"
            ]
          },
          "metadata": {
            "needs_background": "light"
          }
        }
      ]
    },
    {
      "cell_type": "code",
      "metadata": {
        "colab": {
          "base_uri": "https://localhost:8080/",
          "height": 312
        },
        "id": "KlTKwIfW-za3",
        "outputId": "f136b496-df99-46d4-ed70-c9ced75b9223"
      },
      "source": [
        "plt.plot(NN_3g.history['accuracy'], 'blue')\n",
        "plt.plot(NN_3g.history['val_accuracy'], 'orange')\n",
        "plt.title('Model accuracy')\n",
        "plt.ylabel('accuracy')\n",
        "plt.xlabel('epoch')\n",
        "plt.legend(['train', 'validation'], loc='upper left')"
      ],
      "execution_count": 29,
      "outputs": [
        {
          "output_type": "execute_result",
          "data": {
            "text/plain": [
              "<matplotlib.legend.Legend at 0x7fe9f04edb90>"
            ]
          },
          "metadata": {},
          "execution_count": 29
        },
        {
          "output_type": "display_data",
          "data": {
            "image/png": "[encoded data removed]",
            "text/plain": [
              "<Figure size 432x288 with 1 Axes>"
            ]
          },
          "metadata": {
            "needs_background": "light"
          }
        }
      ]
    },
    {
      "cell_type": "markdown",
      "metadata": {
        "id": "zYm7cG5E_Wkc"
      },
      "source": [
        "**Model 1_7:** </br>\n",
        "1. 5 layers \n",
        "2. 256+128+32+16+10 nodes in total \n",
        "3. Activation- Leaky_ReLU\n",
        "4. Loss- Categorical Cross Entropy\n",
        "5. Testing, training, validation\n",
        "6. Time taken for 12 epochs- about 115s"
      ]
    },
    {
      "cell_type": "code",
      "metadata": {
        "colab": {
          "base_uri": "https://localhost:8080/"
        },
        "id": "OPV20Sq0_Wkc",
        "outputId": "8348a55c-af2b-4b20-e146-c4c971c35c66"
      },
      "source": [
        "keras.backend.clear_session()\n",
        "\n",
        "seed = 7\n",
        "np.random.seed(seed)\n",
        "\n",
        "model_1_7 = keras.Sequential([\n",
        "    keras.layers.Dense(units=256, activation=tf.nn.leaky_relu, input_shape=(784, )), #input layer\n",
        "    keras.layers.Dense(units=128, activation=tf.nn.leaky_relu), #1 hidden layer\n",
        "    keras.layers.Dense(units=32, activation=tf.nn.leaky_relu), #2 hidden layer\n",
        "    keras.layers.Dense(units=16, activation=tf.nn.leaky_relu), #3 hidden layer\n",
        "    keras.layers.Dense(units=10, activation=tf.nn.softmax) #output layer\n",
        "])\n",
        "model_1_7.summary() \n",
        "\n",
        "model_1_7.compile(loss='categorical_crossentropy', metrics=['accuracy'])"
      ],
      "execution_count": 30,
      "outputs": [
        {
          "output_type": "stream",
          "name": "stdout",
          "text": [
            "Model: \"sequential\"\n",
            "_________________________________________________________________\n",
            "Layer (type)                 Output Shape              Param #   \n",
            "=================================================================\n",
            "dense (Dense)                (None, 256)               200960    \n",
            "_________________________________________________________________\n",
            "dense_1 (Dense)              (None, 128)               32896     \n",
            "_________________________________________________________________\n",
            "dense_2 (Dense)              (None, 32)                4128      \n",
            "_________________________________________________________________\n",
            "dense_3 (Dense)              (None, 16)                528       \n",
            "_________________________________________________________________\n",
            "dense_4 (Dense)              (None, 10)                170       \n",
            "=================================================================\n",
            "Total params: 238,682\n",
            "Trainable params: 238,682\n",
            "Non-trainable params: 0\n",
            "_________________________________________________________________\n"
          ]
        }
      ]
    },
    {
      "cell_type": "code",
      "metadata": {
        "colab": {
          "base_uri": "https://localhost:8080/"
        },
        "id": "R8lALoZ0_Wkd",
        "outputId": "ec5006ee-8bca-4906-f7fb-1be34247d686"
      },
      "source": [
        "NN_3h = model_1_7.fit(X_train, y_train, epochs=12)\n",
        "\n",
        "test_loss, test_acc = model_1_7.evaluate(X_test, y_test)\n",
        "print(\"Model - 5 layers - test loss:\", test_loss)\n",
        "print(\"Model - 5 layers - test accuracy:\", test_acc * 100)"
      ],
      "execution_count": 31,
      "outputs": [
        {
          "output_type": "stream",
          "name": "stdout",
          "text": [
            "Epoch 1/12\n",
            "1875/1875 [==============================] - 11s 6ms/step - loss: 1.6241 - accuracy: 0.7358\n",
            "Epoch 2/12\n",
            "1875/1875 [==============================] - 11s 6ms/step - loss: 0.5569 - accuracy: 0.8202\n",
            "Epoch 3/12\n",
            "1875/1875 [==============================] - 11s 6ms/step - loss: 0.4852 - accuracy: 0.8384\n",
            "Epoch 4/12\n",
            "1875/1875 [==============================] - 11s 6ms/step - loss: 0.4474 - accuracy: 0.8487\n",
            "Epoch 5/12\n",
            "1875/1875 [==============================] - 11s 6ms/step - loss: 0.4297 - accuracy: 0.8562\n",
            "Epoch 6/12\n",
            "1875/1875 [==============================] - 10s 6ms/step - loss: 0.4177 - accuracy: 0.8591\n",
            "Epoch 7/12\n",
            "1875/1875 [==============================] - 10s 6ms/step - loss: 0.4005 - accuracy: 0.8654\n",
            "Epoch 8/12\n",
            "1875/1875 [==============================] - 11s 6ms/step - loss: 0.3986 - accuracy: 0.8680\n",
            "Epoch 9/12\n",
            "1875/1875 [==============================] - 11s 6ms/step - loss: 0.3862 - accuracy: 0.8691\n",
            "Epoch 10/12\n",
            "1875/1875 [==============================] - 11s 6ms/step - loss: 0.3752 - accuracy: 0.8735\n",
            "Epoch 11/12\n",
            "1875/1875 [==============================] - 10s 5ms/step - loss: 0.3688 - accuracy: 0.8753\n",
            "Epoch 12/12\n",
            "1875/1875 [==============================] - 10s 5ms/step - loss: 0.3600 - accuracy: 0.8792\n",
            "313/313 [==============================] - 1s 2ms/step - loss: 0.4371 - accuracy: 0.8619\n",
            "Model - 5 layers - test loss: 0.43707919120788574\n",
            "Model - 5 layers - test accuracy: 86.18999719619751\n"
          ]
        }
      ]
    },
    {
      "cell_type": "code",
      "metadata": {
        "colab": {
          "base_uri": "https://localhost:8080/",
          "height": 312
        },
        "id": "9M9GLRYU_Wkd",
        "outputId": "e6d7a457-dbf9-49f6-a8c3-01876acd7133"
      },
      "source": [
        "plt.plot(NN_3h.history['loss'], 'blue')\n",
        "plt.title('Model loss')\n",
        "plt.ylabel('loss')\n",
        "plt.xlabel('epoch')\n",
        "plt.legend(['train'], loc='upper left')"
      ],
      "execution_count": 32,
      "outputs": [
        {
          "output_type": "execute_result",
          "data": {
            "text/plain": [
              "<matplotlib.legend.Legend at 0x7fe9eecedc10>"
            ]
          },
          "metadata": {},
          "execution_count": 32
        },
        {
          "output_type": "display_data",
          "data": {
            "image/png": "[encoded data removed]",
            "text/plain": [
              "<Figure size 432x288 with 1 Axes>"
            ]
          },
          "metadata": {
            "needs_background": "light"
          }
        }
      ]
    },
    {
      "cell_type": "code",
      "metadata": {
        "colab": {
          "base_uri": "https://localhost:8080/",
          "height": 312
        },
        "id": "MTGLPxfL_Wkd",
        "outputId": "c09ae615-744b-4d41-97da-d4907cc64e14"
      },
      "source": [
        "plt.plot(NN_3h.history['accuracy'], 'blue')\n",
        "plt.title('Model accuracy')\n",
        "plt.ylabel('accuracy')\n",
        "plt.xlabel('epoch')\n",
        "plt.legend(['train'], loc='upper left')"
      ],
      "execution_count": 33,
      "outputs": [
        {
          "output_type": "execute_result",
          "data": {
            "text/plain": [
              "<matplotlib.legend.Legend at 0x7fe9eecc1810>"
            ]
          },
          "metadata": {},
          "execution_count": 33
        },
        {
          "output_type": "display_data",
          "data": {
            "image/png": "[encoded data removed]",
            "text/plain": [
              "<Figure size 432x288 with 1 Axes>"
            ]
          },
          "metadata": {
            "needs_background": "light"
          }
        }
      ]
    },
    {
      "cell_type": "markdown",
      "metadata": {
        "id": "z_MLcH-zy92n"
      },
      "source": [
        "**Model 2_1:** </br>\n",
        "1. 10 layers (8 hidden layers)\n",
        "2. 1024+512+256+200+128+100+64+50+20+10 nodes in total\n",
        "3. Activation- ReLU\n",
        "4. Loss- Categorical Cross Entropy Loss\n",
        "5. Dropout used \n",
        "6. Training, testing, and validation\n",
        "7. Time taken for 10 epochs- about 5 minutes"
      ]
    },
    {
      "cell_type": "code",
      "metadata": {
        "colab": {
          "base_uri": "https://localhost:8080/"
        },
        "id": "4JSOAWBLy6R2",
        "outputId": "ca7a58e1-3e06-43b6-f6c1-5edf7c7f1230"
      },
      "source": [
        "keras.backend.clear_session()\n",
        "\n",
        "\n",
        "model_2_1 = keras.Sequential([\n",
        "    keras.layers.Dense(units=1024, activation=tf.nn.relu, input_shape=(784, )), #input layer basically converting it to a higher dimension \n",
        "    keras.layers.Dense(units=512, activation=tf.nn.relu), #1 hidden layer\n",
        "    keras.layers.Dropout(0.3),\n",
        "    keras.layers.Dense(units=256, activation=tf.nn.relu), #2 hidden layer\n",
        "    keras.layers.Dense(units=200, activation=tf.nn.relu), #3 hidden layer\n",
        "    keras.layers.Dropout(0.2),\n",
        "    keras.layers.Dense(units=128, activation=tf.nn.relu), #4 hidden layer\n",
        "    keras.layers.Dense(units=100, activation=tf.nn.relu), #5 hidden layer\n",
        "    keras.layers.Dense(units=64, activation=tf.nn.relu), #6 hidden layer\n",
        "    keras.layers.Dropout(0.2),\n",
        "    keras.layers.Dense(units=50, activation=tf.nn.relu), #7 hidden layer\n",
        "    keras.layers.Dense(units=20, activation=tf.nn.relu), #8 hidden layer\n",
        "    keras.layers.Dense(units=10, activation=tf.nn.softmax) #output layer\n",
        "])\n",
        "model_2_1.summary() \n",
        "\n",
        "model_2_1.compile(loss='categorical_crossentropy', metrics=['accuracy'])"
      ],
      "execution_count": 34,
      "outputs": [
        {
          "output_type": "stream",
          "name": "stdout",
          "text": [
            "Model: \"sequential\"\n",
            "_________________________________________________________________\n",
            "Layer (type)                 Output Shape              Param #   \n",
            "=================================================================\n",
            "dense (Dense)                (None, 1024)              803840    \n",
            "_________________________________________________________________\n",
            "dense_1 (Dense)              (None, 512)               524800    \n",
            "_________________________________________________________________\n",
            "dropout (Dropout)            (None, 512)               0         \n",
            "_________________________________________________________________\n",
            "dense_2 (Dense)              (None, 256)               131328    \n",
            "_________________________________________________________________\n",
            "dense_3 (Dense)              (None, 200)               51400     \n",
            "_________________________________________________________________\n",
            "dropout_1 (Dropout)          (None, 200)               0         \n",
            "_________________________________________________________________\n",
            "dense_4 (Dense)              (None, 128)               25728     \n",
            "_________________________________________________________________\n",
            "dense_5 (Dense)              (None, 100)               12900     \n",
            "_________________________________________________________________\n",
            "dense_6 (Dense)              (None, 64)                6464      \n",
            "_________________________________________________________________\n",
            "dropout_2 (Dropout)          (None, 64)                0         \n",
            "_________________________________________________________________\n",
            "dense_7 (Dense)              (None, 50)                3250      \n",
            "_________________________________________________________________\n",
            "dense_8 (Dense)              (None, 20)                1020      \n",
            "_________________________________________________________________\n",
            "dense_9 (Dense)              (None, 10)                210       \n",
            "=================================================================\n",
            "Total params: 1,560,940\n",
            "Trainable params: 1,560,940\n",
            "Non-trainable params: 0\n",
            "_________________________________________________________________\n"
          ]
        }
      ]
    },
    {
      "cell_type": "code",
      "metadata": {
        "colab": {
          "base_uri": "https://localhost:8080/"
        },
        "id": "nzwcra6T8VD7",
        "outputId": "1daf9b53-2ab0-4685-885b-6cc1877edad7"
      },
      "source": [
        "NN_10 = model_2_1.fit(X_train, y_train, epochs=10, validation_split=0.2)\n",
        "\n",
        "test_loss, test_acc = model_2_1.evaluate(X_test, y_test)\n",
        "print(\"Model - 10 layers - test loss:\", test_loss)\n",
        "print(\"Model - 10 layers - test accuracy:\", test_acc * 100)"
      ],
      "execution_count": 35,
      "outputs": [
        {
          "output_type": "stream",
          "name": "stdout",
          "text": [
            "Epoch 1/10\n",
            "1500/1500 [==============================] - 42s 27ms/step - loss: 2.4895 - accuracy: 0.0968 - val_loss: 2.3027 - val_accuracy: 0.0972\n",
            "Epoch 2/10\n",
            "1500/1500 [==============================] - 43s 29ms/step - loss: 2.3040 - accuracy: 0.0971 - val_loss: 2.3027 - val_accuracy: 0.1011\n",
            "Epoch 3/10\n",
            "1500/1500 [==============================] - 43s 28ms/step - loss: 2.3032 - accuracy: 0.0999 - val_loss: 2.3027 - val_accuracy: 0.1011\n",
            "Epoch 4/10\n",
            "1500/1500 [==============================] - 43s 28ms/step - loss: 2.3036 - accuracy: 0.0989 - val_loss: 2.3026 - val_accuracy: 0.1013\n",
            "Epoch 5/10\n",
            "1500/1500 [==============================] - 43s 29ms/step - loss: 2.3028 - accuracy: 0.0960 - val_loss: 2.3027 - val_accuracy: 0.0971\n",
            "Epoch 6/10\n",
            "1500/1500 [==============================] - 43s 28ms/step - loss: 2.3032 - accuracy: 0.0976 - val_loss: 2.3026 - val_accuracy: 0.1013\n",
            "Epoch 7/10\n",
            "1500/1500 [==============================] - 43s 29ms/step - loss: 2.3032 - accuracy: 0.0972 - val_loss: 2.3026 - val_accuracy: 0.1002\n",
            "Epoch 8/10\n",
            "1500/1500 [==============================] - 43s 29ms/step - loss: 2.3028 - accuracy: 0.0981 - val_loss: 2.3027 - val_accuracy: 0.0999\n",
            "Epoch 9/10\n",
            "1500/1500 [==============================] - 43s 29ms/step - loss: 2.3028 - accuracy: 0.0981 - val_loss: 2.3028 - val_accuracy: 0.0971\n",
            "Epoch 10/10\n",
            "1500/1500 [==============================] - 41s 27ms/step - loss: 2.3028 - accuracy: 0.0990 - val_loss: 2.3027 - val_accuracy: 0.0999\n",
            "313/313 [==============================] - 2s 7ms/step - loss: 2.3026 - accuracy: 0.1000\n",
            "Model - 10 layers - test loss: 2.3026316165924072\n",
            "Model - 10 layers - test accuracy: 10.000000149011612\n"
          ]
        }
      ]
    },
    {
      "cell_type": "code",
      "metadata": {
        "colab": {
          "base_uri": "https://localhost:8080/",
          "height": 312
        },
        "id": "RveP6x_-9PEc",
        "outputId": "c378bf99-cb60-40c0-ec8e-fd44c3fc7faf"
      },
      "source": [
        "plt.plot(NN_10.history['loss'], 'blue')\n",
        "plt.plot(NN_10.history['val_loss'], 'orange')\n",
        "plt.title('Model loss')\n",
        "plt.ylabel('loss')\n",
        "plt.xlabel('epoch')\n",
        "plt.legend(['train', 'validation'], loc='upper left')"
      ],
      "execution_count": 36,
      "outputs": [
        {
          "output_type": "execute_result",
          "data": {
            "text/plain": [
              "<matplotlib.legend.Legend at 0x7fe9efe4b8d0>"
            ]
          },
          "metadata": {},
          "execution_count": 36
        },
        {
          "output_type": "display_data",
          "data": {
            "image/png": "[encoded data removed]",
            "text/plain": [
              "<Figure size 432x288 with 1 Axes>"
            ]
          },
          "metadata": {
            "needs_background": "light"
          }
        }
      ]
    },
    {
      "cell_type": "code",
      "metadata": {
        "colab": {
          "base_uri": "https://localhost:8080/",
          "height": 312
        },
        "id": "UjPkrH77AElN",
        "outputId": "9a4613c5-18aa-45ae-f966-31331a45da04"
      },
      "source": [
        "plt.plot(NN_10.history['accuracy'], 'blue')\n",
        "plt.plot(NN_10.history['val_accuracy'], 'orange')\n",
        "plt.title('Model accuracy')\n",
        "plt.ylabel('accuracy')\n",
        "plt.xlabel('epoch')\n",
        "plt.legend(['train', 'validation'], loc='upper left')"
      ],
      "execution_count": 37,
      "outputs": [
        {
          "output_type": "execute_result",
          "data": {
            "text/plain": [
              "<matplotlib.legend.Legend at 0x7fe9efdbd590>"
            ]
          },
          "metadata": {},
          "execution_count": 37
        },
        {
          "output_type": "display_data",
          "data": {
            "image/png": "[encoded data removed]",
            "text/plain": [
              "<Figure size 432x288 with 1 Axes>"
            ]
          },
          "metadata": {
            "needs_background": "light"
          }
        }
      ]
    },
    {
      "cell_type": "markdown",
      "metadata": {
        "id": "MtBUnwWrCmct"
      },
      "source": [
        "**Model 2_2:** (same as model 2_1 but removing the 1024 nodes in the first layer to check if accuracy improves)</br>\n",
        "1. 9 layers\n",
        "2. 512+256+200+128+100+64+50+20+10 nodes in total\n",
        "3. Activation- ReLU\n",
        "4. Loss- Categorical Cross Entropy Loss\n",
        "5. Dropout used \n",
        "6. Training, testing, and validation\n",
        "7. Time taken for 10 epochs- about 2 minutes"
      ]
    },
    {
      "cell_type": "code",
      "metadata": {
        "colab": {
          "base_uri": "https://localhost:8080/"
        },
        "id": "KRiHMLs4DgCM",
        "outputId": "c975f3da-f23a-4809-f0e1-f619934ab77d"
      },
      "source": [
        "keras.backend.clear_session()\n",
        "\n",
        "seed = 7\n",
        "np.random.seed(seed)\n",
        "model_2_2 = keras.Sequential([ \n",
        "    keras.layers.Dense(units=512, activation=tf.nn.relu, input_shape=(784, )), #input layer basically converting it to a higher dimension\n",
        "    keras.layers.Dropout(0.3),\n",
        "    keras.layers.Dense(units=256, activation=tf.nn.relu), \n",
        "    keras.layers.Dense(units=200, activation=tf.nn.relu), \n",
        "    keras.layers.Dropout(0.2),\n",
        "    keras.layers.Dense(units=128, activation=tf.nn.relu), \n",
        "    keras.layers.Dense(units=100, activation=tf.nn.relu), \n",
        "    keras.layers.Dense(units=64, activation=tf.nn.relu), \n",
        "    keras.layers.Dropout(0.2),\n",
        "    keras.layers.Dense(units=50, activation=tf.nn.relu), \n",
        "    keras.layers.Dense(units=20, activation=tf.nn.relu), \n",
        "    keras.layers.Dense(units=10, activation=tf.nn.softmax) \n",
        "])\n",
        "model_2_2.summary() \n",
        "\n",
        "model_2_2.compile(loss='categorical_crossentropy', metrics=['accuracy'])"
      ],
      "execution_count": 38,
      "outputs": [
        {
          "output_type": "stream",
          "name": "stdout",
          "text": [
            "Model: \"sequential\"\n",
            "_________________________________________________________________\n",
            "Layer (type)                 Output Shape              Param #   \n",
            "=================================================================\n",
            "dense (Dense)                (None, 512)               401920    \n",
            "_________________________________________________________________\n",
            "dropout (Dropout)            (None, 512)               0         \n",
            "_________________________________________________________________\n",
            "dense_1 (Dense)              (None, 256)               131328    \n",
            "_________________________________________________________________\n",
            "dense_2 (Dense)              (None, 200)               51400     \n",
            "_________________________________________________________________\n",
            "dropout_1 (Dropout)          (None, 200)               0         \n",
            "_________________________________________________________________\n",
            "dense_3 (Dense)              (None, 128)               25728     \n",
            "_________________________________________________________________\n",
            "dense_4 (Dense)              (None, 100)               12900     \n",
            "_________________________________________________________________\n",
            "dense_5 (Dense)              (None, 64)                6464      \n",
            "_________________________________________________________________\n",
            "dropout_2 (Dropout)          (None, 64)                0         \n",
            "_________________________________________________________________\n",
            "dense_6 (Dense)              (None, 50)                3250      \n",
            "_________________________________________________________________\n",
            "dense_7 (Dense)              (None, 20)                1020      \n",
            "_________________________________________________________________\n",
            "dense_8 (Dense)              (None, 10)                210       \n",
            "=================================================================\n",
            "Total params: 634,220\n",
            "Trainable params: 634,220\n",
            "Non-trainable params: 0\n",
            "_________________________________________________________________\n"
          ]
        }
      ]
    },
    {
      "cell_type": "code",
      "metadata": {
        "colab": {
          "base_uri": "https://localhost:8080/"
        },
        "id": "IqI7hedRFd38",
        "outputId": "aa97f452-5638-4634-f040-605bc0d2ee0a"
      },
      "source": [
        "NN_9 = model_2_2.fit(X_train, y_train, epochs=10, validation_split=0.2)\n",
        "\n",
        "test_loss, test_acc = model_2_2.evaluate(X_test, y_test)\n",
        "print(\"Model - 9 layers - test loss:\", test_loss)\n",
        "print(\"Model - 9 layers - test accuracy:\", test_acc * 100)"
      ],
      "execution_count": 39,
      "outputs": [
        {
          "output_type": "stream",
          "name": "stdout",
          "text": [
            "Epoch 1/10\n",
            "1500/1500 [==============================] - 19s 12ms/step - loss: 1.1869 - accuracy: 0.6115 - val_loss: 0.6569 - val_accuracy: 0.7520\n",
            "Epoch 2/10\n",
            "1500/1500 [==============================] - 20s 13ms/step - loss: 0.7506 - accuracy: 0.7513 - val_loss: 0.6706 - val_accuracy: 0.7529\n",
            "Epoch 3/10\n",
            "1500/1500 [==============================] - 19s 13ms/step - loss: 0.7918 - accuracy: 0.7576 - val_loss: 0.5990 - val_accuracy: 0.7928\n",
            "Epoch 4/10\n",
            "1500/1500 [==============================] - 18s 12ms/step - loss: 0.7939 - accuracy: 0.7588 - val_loss: 0.6590 - val_accuracy: 0.7972\n",
            "Epoch 5/10\n",
            "1500/1500 [==============================] - 18s 12ms/step - loss: 0.9859 - accuracy: 0.7448 - val_loss: 0.6774 - val_accuracy: 0.7904\n",
            "Epoch 6/10\n",
            "1500/1500 [==============================] - 18s 12ms/step - loss: 0.9941 - accuracy: 0.7151 - val_loss: 0.6541 - val_accuracy: 0.7801\n",
            "Epoch 7/10\n",
            "1500/1500 [==============================] - 18s 12ms/step - loss: 1.0310 - accuracy: 0.7213 - val_loss: 1.0257 - val_accuracy: 0.6767\n",
            "Epoch 8/10\n",
            "1500/1500 [==============================] - 18s 12ms/step - loss: 1.1541 - accuracy: 0.7076 - val_loss: 0.7502 - val_accuracy: 0.7751\n",
            "Epoch 9/10\n",
            "1500/1500 [==============================] - 18s 12ms/step - loss: 1.2472 - accuracy: 0.6511 - val_loss: 0.9898 - val_accuracy: 0.6228\n",
            "Epoch 10/10\n",
            "1500/1500 [==============================] - 18s 12ms/step - loss: 1.4945 - accuracy: 0.5623 - val_loss: 1.0497 - val_accuracy: 0.6658\n",
            "313/313 [==============================] - 2s 5ms/step - loss: 1.0383 - accuracy: 0.6596\n",
            "Model - 9 layers - test loss: 1.038318157196045\n",
            "Model - 9 layers - test accuracy: 65.9600019454956\n"
          ]
        }
      ]
    },
    {
      "cell_type": "code",
      "metadata": {
        "colab": {
          "base_uri": "https://localhost:8080/",
          "height": 312
        },
        "id": "fDHZuQzxGQVp",
        "outputId": "6834bec1-7ce5-412a-fbec-7fd2b71f3f07"
      },
      "source": [
        "plt.plot(NN_9.history['loss'], 'blue')\n",
        "plt.plot(NN_9.history['val_loss'], 'orange')\n",
        "plt.title('Model loss')\n",
        "plt.ylabel('loss')\n",
        "plt.xlabel('epoch')\n",
        "plt.legend(['train', 'validation'], loc='upper left')"
      ],
      "execution_count": 40,
      "outputs": [
        {
          "output_type": "execute_result",
          "data": {
            "text/plain": [
              "<matplotlib.legend.Legend at 0x7fe9efaa6110>"
            ]
          },
          "metadata": {},
          "execution_count": 40
        },
        {
          "output_type": "display_data",
          "data": {
            "image/png": "[encoded data removed]",
            "text/plain": [
              "<Figure size 432x288 with 1 Axes>"
            ]
          },
          "metadata": {
            "needs_background": "light"
          }
        }
      ]
    },
    {
      "cell_type": "code",
      "metadata": {
        "colab": {
          "base_uri": "https://localhost:8080/",
          "height": 312
        },
        "id": "LCte1shzGXml",
        "outputId": "7a0e3e2e-dfdc-4d6a-a718-04050e9cbb8f"
      },
      "source": [
        "plt.plot(NN_9.history['accuracy'], 'blue')\n",
        "plt.plot(NN_9.history['val_accuracy'], 'orange')\n",
        "plt.title('Model accuracy')\n",
        "plt.ylabel('accuracy')\n",
        "plt.xlabel('epoch')\n",
        "plt.legend(['train', 'validation'], loc='upper left')"
      ],
      "execution_count": 41,
      "outputs": [
        {
          "output_type": "execute_result",
          "data": {
            "text/plain": [
              "<matplotlib.legend.Legend at 0x7fe9efa5e990>"
            ]
          },
          "metadata": {},
          "execution_count": 41
        },
        {
          "output_type": "display_data",
          "data": {
            "image/png": "[encoded data removed]",
            "text/plain": [
              "<Figure size 432x288 with 1 Axes>"
            ]
          },
          "metadata": {
            "needs_background": "light"
          }
        }
      ]
    },
    {
      "cell_type": "markdown",
      "metadata": {
        "id": "86rkTIhEIocA"
      },
      "source": [
        "**Model 2_3:** (same as model 2_2 but adding batch normalization to check if accuracy improves)</br>\n",
        "1. 9 layers\n",
        "2. 512+256+200+128+100+64+50+20+10 nodes in total\n",
        "3. Activation- ReLU\n",
        "4. Loss- Categorical Cross Entropy Loss\n",
        "5. Dropout used \n",
        "6. Batch Normalization (Reducing the number of training epochs required to train deep networks.)\n",
        "7. Training, testing, and validation (testing in batches)\n",
        "8. Time taken for 10 epochs- about 81s"
      ]
    },
    {
      "cell_type": "code",
      "metadata": {
        "colab": {
          "base_uri": "https://localhost:8080/"
        },
        "id": "IyLPBSoVJ_ZQ",
        "outputId": "248bc7c6-edac-4736-cf08-eb09307bfd7b"
      },
      "source": [
        "keras.backend.clear_session()\n",
        "\n",
        "seed = 7\n",
        "np.random.seed(seed)\n",
        "model_2_3 = keras.Sequential([ \n",
        "    keras.layers.Dense(units=512, activation=tf.nn.relu, input_shape=(784, )), #input layer basically converting it to a higher dimension\n",
        "    keras.layers.Dropout(0.3),\n",
        "    keras.layers.BatchNormalization(),\n",
        "    keras.layers.Dense(units=256, activation=tf.nn.relu), \n",
        "    keras.layers.BatchNormalization(),\n",
        "    keras.layers.Dense(units=200, activation=tf.nn.relu), \n",
        "    keras.layers.Dropout(0.2),\n",
        "    keras.layers.BatchNormalization(),\n",
        "    keras.layers.Dense(units=128, activation=tf.nn.relu), \n",
        "    keras.layers.BatchNormalization(),\n",
        "    keras.layers.Dense(units=100, activation=tf.nn.relu), \n",
        "    keras.layers.BatchNormalization(),\n",
        "    keras.layers.Dense(units=64, activation=tf.nn.relu), \n",
        "    keras.layers.Dropout(0.2),\n",
        "    keras.layers.BatchNormalization(),\n",
        "    keras.layers.Dense(units=50, activation=tf.nn.relu), \n",
        "    keras.layers.BatchNormalization(),\n",
        "    keras.layers.Dense(units=20, activation=tf.nn.relu), \n",
        "    keras.layers.BatchNormalization(),\n",
        "    keras.layers.Dense(units=10, activation=tf.nn.softmax) \n",
        "])\n",
        "model_2_3.summary() \n",
        "\n",
        "model_2_3.compile(loss='categorical_crossentropy', metrics=['accuracy'])"
      ],
      "execution_count": 42,
      "outputs": [
        {
          "output_type": "stream",
          "name": "stdout",
          "text": [
            "Model: \"sequential\"\n",
            "_________________________________________________________________\n",
            "Layer (type)                 Output Shape              Param #   \n",
            "=================================================================\n",
            "dense (Dense)                (None, 512)               401920    \n",
            "_________________________________________________________________\n",
            "dropout (Dropout)            (None, 512)               0         \n",
            "_________________________________________________________________\n",
            "batch_normalization (BatchNo (None, 512)               2048      \n",
            "_________________________________________________________________\n",
            "dense_1 (Dense)              (None, 256)               131328    \n",
            "_________________________________________________________________\n",
            "batch_normalization_1 (Batch (None, 256)               1024      \n",
            "_________________________________________________________________\n",
            "dense_2 (Dense)              (None, 200)               51400     \n",
            "_________________________________________________________________\n",
            "dropout_1 (Dropout)          (None, 200)               0         \n",
            "_________________________________________________________________\n",
            "batch_normalization_2 (Batch (None, 200)               800       \n",
            "_________________________________________________________________\n",
            "dense_3 (Dense)              (None, 128)               25728     \n",
            "_________________________________________________________________\n",
            "batch_normalization_3 (Batch (None, 128)               512       \n",
            "_________________________________________________________________\n",
            "dense_4 (Dense)              (None, 100)               12900     \n",
            "_________________________________________________________________\n",
            "batch_normalization_4 (Batch (None, 100)               400       \n",
            "_________________________________________________________________\n",
            "dense_5 (Dense)              (None, 64)                6464      \n",
            "_________________________________________________________________\n",
            "dropout_2 (Dropout)          (None, 64)                0         \n",
            "_________________________________________________________________\n",
            "batch_normalization_5 (Batch (None, 64)                256       \n",
            "_________________________________________________________________\n",
            "dense_6 (Dense)              (None, 50)                3250      \n",
            "_________________________________________________________________\n",
            "batch_normalization_6 (Batch (None, 50)                200       \n",
            "_________________________________________________________________\n",
            "dense_7 (Dense)              (None, 20)                1020      \n",
            "_________________________________________________________________\n",
            "batch_normalization_7 (Batch (None, 20)                80        \n",
            "_________________________________________________________________\n",
            "dense_8 (Dense)              (None, 10)                210       \n",
            "=================================================================\n",
            "Total params: 639,540\n",
            "Trainable params: 636,880\n",
            "Non-trainable params: 2,660\n",
            "_________________________________________________________________\n"
          ]
        }
      ]
    },
    {
      "cell_type": "code",
      "metadata": {
        "colab": {
          "base_uri": "https://localhost:8080/"
        },
        "id": "d6whgaTsKESD",
        "outputId": "53faab79-a285-4ce4-f09e-8d84bb78f9c1"
      },
      "source": [
        "NN_9b = model_2_3.fit(X_train, y_train, epochs=10, batch_size=128, validation_split=0.2)\n",
        "\n",
        "test_loss, test_acc = model_2_3.evaluate(X_test, y_test)\n",
        "print(\"Model - 9 layers - test loss:\", test_loss)\n",
        "print(\"Model - 9 layers - test accuracy:\", test_acc * 100)"
      ],
      "execution_count": 43,
      "outputs": [
        {
          "output_type": "stream",
          "name": "stdout",
          "text": [
            "Epoch 1/10\n",
            "375/375 [==============================] - 12s 25ms/step - loss: 0.7546 - accuracy: 0.7501 - val_loss: 0.5552 - val_accuracy: 0.8093\n",
            "Epoch 2/10\n",
            "375/375 [==============================] - 9s 23ms/step - loss: 0.5029 - accuracy: 0.8249 - val_loss: 0.4701 - val_accuracy: 0.8346\n",
            "Epoch 3/10\n",
            "375/375 [==============================] - 9s 24ms/step - loss: 0.4638 - accuracy: 0.8368 - val_loss: 0.4136 - val_accuracy: 0.8528\n",
            "Epoch 4/10\n",
            "375/375 [==============================] - 10s 26ms/step - loss: 0.4369 - accuracy: 0.8452 - val_loss: 0.4460 - val_accuracy: 0.8405\n",
            "Epoch 5/10\n",
            "375/375 [==============================] - 9s 25ms/step - loss: 0.4181 - accuracy: 0.8530 - val_loss: 0.4284 - val_accuracy: 0.8530\n",
            "Epoch 6/10\n",
            "375/375 [==============================] - 9s 23ms/step - loss: 0.4041 - accuracy: 0.8572 - val_loss: 0.3987 - val_accuracy: 0.8638\n",
            "Epoch 7/10\n",
            "375/375 [==============================] - 9s 23ms/step - loss: 0.3983 - accuracy: 0.8581 - val_loss: 0.4571 - val_accuracy: 0.8472\n",
            "Epoch 8/10\n",
            "375/375 [==============================] - 9s 23ms/step - loss: 0.3918 - accuracy: 0.8610 - val_loss: 0.3915 - val_accuracy: 0.8691\n",
            "Epoch 9/10\n",
            "375/375 [==============================] - 9s 23ms/step - loss: 0.3845 - accuracy: 0.8644 - val_loss: 0.3776 - val_accuracy: 0.8687\n",
            "Epoch 10/10\n",
            "375/375 [==============================] - 9s 24ms/step - loss: 0.3726 - accuracy: 0.8685 - val_loss: 0.4028 - val_accuracy: 0.8568\n",
            "313/313 [==============================] - 1s 4ms/step - loss: 0.3998 - accuracy: 0.8549\n",
            "Model - 9 layers - test loss: 0.399825781583786\n",
            "Model - 9 layers - test accuracy: 85.49000024795532\n"
          ]
        }
      ]
    },
    {
      "cell_type": "code",
      "metadata": {
        "colab": {
          "base_uri": "https://localhost:8080/",
          "height": 312
        },
        "id": "YLoxcsscLEyy",
        "outputId": "344d85ff-64f4-454c-bac5-85eee1764cc6"
      },
      "source": [
        "plt.plot(NN_9b.history['loss'], 'blue')\n",
        "plt.plot(NN_9b.history['val_loss'], 'orange')\n",
        "plt.title('Model loss')\n",
        "plt.ylabel('loss')\n",
        "plt.xlabel('epoch')\n",
        "plt.legend(['train', 'validation'], loc='upper left')"
      ],
      "execution_count": 44,
      "outputs": [
        {
          "output_type": "execute_result",
          "data": {
            "text/plain": [
              "<matplotlib.legend.Legend at 0x7fe9eee36190>"
            ]
          },
          "metadata": {},
          "execution_count": 44
        },
        {
          "output_type": "display_data",
          "data": {
            "image/png": "[encoded data removed]",
            "text/plain": [
              "<Figure size 432x288 with 1 Axes>"
            ]
          },
          "metadata": {
            "needs_background": "light"
          }
        }
      ]
    },
    {
      "cell_type": "code",
      "metadata": {
        "colab": {
          "base_uri": "https://localhost:8080/",
          "height": 312
        },
        "id": "hBKI2kEHLFRo",
        "outputId": "9b7cd99a-5168-4765-9944-5f47a7c7ceac"
      },
      "source": [
        "plt.plot(NN_9b.history['accuracy'], 'blue')\n",
        "plt.plot(NN_9b.history['val_accuracy'], 'orange')\n",
        "plt.title('Model accuracy')\n",
        "plt.ylabel('accuracy')\n",
        "plt.xlabel('epoch')\n",
        "plt.legend(['train', 'validation'], loc='upper left')"
      ],
      "execution_count": 45,
      "outputs": [
        {
          "output_type": "execute_result",
          "data": {
            "text/plain": [
              "<matplotlib.legend.Legend at 0x7fe9eeda6f50>"
            ]
          },
          "metadata": {},
          "execution_count": 45
        },
        {
          "output_type": "display_data",
          "data": {
            "image/png": "[encoded data removed]",
            "text/plain": [
              "<Figure size 432x288 with 1 Axes>"
            ]
          },
          "metadata": {
            "needs_background": "light"
          }
        }
      ]
    },
    {
      "cell_type": "markdown",
      "metadata": {
        "id": "DWMPCAVL1ZgA"
      },
      "source": [
        "**Model 4_1:** </br>\n",
        "1. 5 layers \n",
        "2. 128+64+32+16+10 nodes in total \n",
        "3. Activation- LeakyReLU\n",
        "4. Categorical Crossentropy\n",
        "5. adam optimizer\n",
        "6. Testing, training, Validation (aka Hold-Out Validation)\n",
        "7. Tested in batches (Not necessary cause small model anyways)\n",
        "8. Time taken for 20 epochs- 41s"
      ]
    },
    {
      "cell_type": "code",
      "metadata": {
        "colab": {
          "base_uri": "https://localhost:8080/"
        },
        "id": "51DwPQkp1ZgE",
        "outputId": "a82f352d-a9b2-4c85-d999-9a81befbc383"
      },
      "source": [
        "keras.backend.clear_session()\n",
        "\n",
        "seed = 7\n",
        "np.random.seed(seed)\n",
        "\n",
        "model_4_1 = keras.models.Sequential([\n",
        "    \n",
        "    keras.layers.Dense(128, kernel_initializer=\"he_normal\",input_shape=(784,)),\n",
        "    keras.layers.BatchNormalization(),\n",
        "    keras.layers.LeakyReLU(),\n",
        "    keras.layers.Dense(64, kernel_initializer=\"he_normal\"),\n",
        "    keras.layers.BatchNormalization(),\n",
        "    keras.layers.LeakyReLU(),\n",
        "    keras.layers.Dense(32, kernel_initializer=\"he_normal\"),\n",
        "    keras.layers.BatchNormalization(),\n",
        "    keras.layers.LeakyReLU(),\n",
        "    keras.layers.Dense(16, kernel_initializer=\"he_normal\"),\n",
        "    keras.layers.LeakyReLU(),\n",
        "    keras.layers.BatchNormalization(),\n",
        "    keras.layers.Dense(10, activation=\"softmax\")\n",
        "])\n",
        "\n",
        "model_4_1.compile(optimizer=\"adam\", loss=\"categorical_crossentropy\", metrics=['accuracy'])\n",
        "\n",
        "model_4_1.summary()"
      ],
      "execution_count": 46,
      "outputs": [
        {
          "output_type": "stream",
          "name": "stdout",
          "text": [
            "Model: \"sequential\"\n",
            "_________________________________________________________________\n",
            "Layer (type)                 Output Shape              Param #   \n",
            "=================================================================\n",
            "dense (Dense)                (None, 128)               100480    \n",
            "_________________________________________________________________\n",
            "batch_normalization (BatchNo (None, 128)               512       \n",
            "_________________________________________________________________\n",
            "leaky_re_lu (LeakyReLU)      (None, 128)               0         \n",
            "_________________________________________________________________\n",
            "dense_1 (Dense)              (None, 64)                8256      \n",
            "_________________________________________________________________\n",
            "batch_normalization_1 (Batch (None, 64)                256       \n",
            "_________________________________________________________________\n",
            "leaky_re_lu_1 (LeakyReLU)    (None, 64)                0         \n",
            "_________________________________________________________________\n",
            "dense_2 (Dense)              (None, 32)                2080      \n",
            "_________________________________________________________________\n",
            "batch_normalization_2 (Batch (None, 32)                128       \n",
            "_________________________________________________________________\n",
            "leaky_re_lu_2 (LeakyReLU)    (None, 32)                0         \n",
            "_________________________________________________________________\n",
            "dense_3 (Dense)              (None, 16)                528       \n",
            "_________________________________________________________________\n",
            "leaky_re_lu_3 (LeakyReLU)    (None, 16)                0         \n",
            "_________________________________________________________________\n",
            "batch_normalization_3 (Batch (None, 16)                64        \n",
            "_________________________________________________________________\n",
            "dense_4 (Dense)              (None, 10)                170       \n",
            "=================================================================\n",
            "Total params: 112,474\n",
            "Trainable params: 111,994\n",
            "Non-trainable params: 480\n",
            "_________________________________________________________________\n"
          ]
        }
      ]
    },
    {
      "cell_type": "code",
      "metadata": {
        "colab": {
          "base_uri": "https://localhost:8080/"
        },
        "id": "UEGvvkOQ1ZgF",
        "outputId": "e13e0d28-f2dc-44da-cd7b-af53dcd39334"
      },
      "source": [
        "NN_4_1 = model_4_1.fit(X_train, y_train, epochs=20, batch_size=196, validation_split=0.2)\n",
        "\n",
        "test_loss, test_acc = model_4_1.evaluate(X_test, y_test)\n",
        "print(\"Model - 5 layers - test loss:\", test_loss)\n",
        "print(\"Model - 5 layers - test accuracy:\", test_acc * 100)"
      ],
      "execution_count": 47,
      "outputs": [
        {
          "output_type": "stream",
          "name": "stdout",
          "text": [
            "Epoch 1/20\n",
            "245/245 [==============================] - 4s 10ms/step - loss: 0.6296 - accuracy: 0.8073 - val_loss: 0.5638 - val_accuracy: 0.8192\n",
            "Epoch 2/20\n",
            "245/245 [==============================] - 2s 10ms/step - loss: 0.3972 - accuracy: 0.8634 - val_loss: 0.4398 - val_accuracy: 0.8432\n",
            "Epoch 3/20\n",
            "245/245 [==============================] - 2s 9ms/step - loss: 0.3452 - accuracy: 0.8778 - val_loss: 0.3666 - val_accuracy: 0.8674\n",
            "Epoch 4/20\n",
            "245/245 [==============================] - 3s 10ms/step - loss: 0.3176 - accuracy: 0.8868 - val_loss: 0.3706 - val_accuracy: 0.8664\n",
            "Epoch 5/20\n",
            "245/245 [==============================] - 3s 10ms/step - loss: 0.2967 - accuracy: 0.8928 - val_loss: 0.3720 - val_accuracy: 0.8713\n",
            "Epoch 6/20\n",
            "245/245 [==============================] - 2s 9ms/step - loss: 0.2816 - accuracy: 0.8979 - val_loss: 0.3649 - val_accuracy: 0.8763\n",
            "Epoch 7/20\n",
            "245/245 [==============================] - 2s 9ms/step - loss: 0.2673 - accuracy: 0.9019 - val_loss: 0.4089 - val_accuracy: 0.8500\n",
            "Epoch 8/20\n",
            "245/245 [==============================] - 2s 8ms/step - loss: 0.2520 - accuracy: 0.9075 - val_loss: 0.3986 - val_accuracy: 0.8636\n",
            "Epoch 9/20\n",
            "245/245 [==============================] - 2s 9ms/step - loss: 0.2432 - accuracy: 0.9106 - val_loss: 0.3639 - val_accuracy: 0.8757\n",
            "Epoch 10/20\n",
            "245/245 [==============================] - 2s 8ms/step - loss: 0.2326 - accuracy: 0.9134 - val_loss: 0.3640 - val_accuracy: 0.8754\n",
            "Epoch 11/20\n",
            "245/245 [==============================] - 2s 8ms/step - loss: 0.2214 - accuracy: 0.9183 - val_loss: 0.3617 - val_accuracy: 0.8721\n",
            "Epoch 12/20\n",
            "245/245 [==============================] - 2s 9ms/step - loss: 0.2153 - accuracy: 0.9207 - val_loss: 0.3626 - val_accuracy: 0.8738\n",
            "Epoch 13/20\n",
            "245/245 [==============================] - 2s 8ms/step - loss: 0.2063 - accuracy: 0.9233 - val_loss: 0.4230 - val_accuracy: 0.8683\n",
            "Epoch 14/20\n",
            "245/245 [==============================] - 2s 8ms/step - loss: 0.1999 - accuracy: 0.9266 - val_loss: 0.3581 - val_accuracy: 0.8788\n",
            "Epoch 15/20\n",
            "245/245 [==============================] - 2s 9ms/step - loss: 0.1942 - accuracy: 0.9276 - val_loss: 0.3552 - val_accuracy: 0.8805\n",
            "Epoch 16/20\n",
            "245/245 [==============================] - 2s 8ms/step - loss: 0.1836 - accuracy: 0.9317 - val_loss: 0.3758 - val_accuracy: 0.8727\n",
            "Epoch 17/20\n",
            "245/245 [==============================] - 2s 8ms/step - loss: 0.1762 - accuracy: 0.9359 - val_loss: 0.4600 - val_accuracy: 0.8568\n",
            "Epoch 18/20\n",
            "245/245 [==============================] - 2s 8ms/step - loss: 0.1793 - accuracy: 0.9337 - val_loss: 0.3795 - val_accuracy: 0.8829\n",
            "Epoch 19/20\n",
            "245/245 [==============================] - 2s 9ms/step - loss: 0.1687 - accuracy: 0.9376 - val_loss: 0.4193 - val_accuracy: 0.8702\n",
            "Epoch 20/20\n",
            "245/245 [==============================] - 2s 8ms/step - loss: 0.1616 - accuracy: 0.9399 - val_loss: 0.3968 - val_accuracy: 0.8748\n",
            "313/313 [==============================] - 1s 2ms/step - loss: 0.3732 - accuracy: 0.8782\n",
            "Model - 5 layers - test loss: 0.37319326400756836\n",
            "Model - 5 layers - test accuracy: 87.81999945640564\n"
          ]
        }
      ]
    },
    {
      "cell_type": "code",
      "metadata": {
        "colab": {
          "base_uri": "https://localhost:8080/",
          "height": 312
        },
        "id": "eJp22FIF1ZgG",
        "outputId": "9350cd5f-5f70-4401-b3f3-b6295d06ada9"
      },
      "source": [
        "plt.plot(NN_4_1.history['loss'], 'blue')\n",
        "plt.plot(NN_4_1.history['val_loss'], 'orange')\n",
        "plt.title('Model loss')\n",
        "plt.ylabel('loss')\n",
        "plt.xlabel('epoch')\n",
        "plt.legend(['train', 'validation'], loc='upper left')"
      ],
      "execution_count": 48,
      "outputs": [
        {
          "output_type": "execute_result",
          "data": {
            "text/plain": [
              "<matplotlib.legend.Legend at 0x7fe9ee8b2cd0>"
            ]
          },
          "metadata": {},
          "execution_count": 48
        },
        {
          "output_type": "display_data",
          "data": {
            "image/png": "[encoded data removed]",
            "text/plain": [
              "<Figure size 432x288 with 1 Axes>"
            ]
          },
          "metadata": {
            "needs_background": "light"
          }
        }
      ]
    },
    {
      "cell_type": "code",
      "metadata": {
        "colab": {
          "base_uri": "https://localhost:8080/",
          "height": 312
        },
        "id": "yvVBRHcT1ZgH",
        "outputId": "6a51dd9b-9bbc-4f08-a406-8704148d8e73"
      },
      "source": [
        "plt.plot(NN_4_1.history['accuracy'], 'blue')\n",
        "plt.plot(NN_4_1.history['val_accuracy'], 'orange')\n",
        "plt.title('Model accuracy')\n",
        "plt.ylabel('accuracy')\n",
        "plt.xlabel('epoch')\n",
        "plt.legend(['train', 'validation'], loc='upper left')"
      ],
      "execution_count": 49,
      "outputs": [
        {
          "output_type": "execute_result",
          "data": {
            "text/plain": [
              "<matplotlib.legend.Legend at 0x7fe9ee7b8590>"
            ]
          },
          "metadata": {},
          "execution_count": 49
        },
        {
          "output_type": "display_data",
          "data": {
            "image/png": "[encoded data removed]",
            "text/plain": [
              "<Figure size 432x288 with 1 Axes>"
            ]
          },
          "metadata": {
            "needs_background": "light"
          }
        }
      ]
    },
    {
      "cell_type": "markdown",
      "metadata": {
        "id": "w6nc4SrC5pNE"
      },
      "source": [
        "**Model 4_2:** </br>\n",
        "1. 5 layers \n",
        "2. 128+64+32+16+10 nodes in total \n",
        "3. Activation- ReLU\n",
        "4. Categorical Crossentropy\n",
        "5. adam optimizer\n",
        "6. Testing, training, Validation (aka Hold-Out Validation)\n",
        "7. Tested in batches (Not necessary cause small model anyways)\n",
        "8. Time taken for 20 epochs- 41s"
      ]
    },
    {
      "cell_type": "code",
      "metadata": {
        "colab": {
          "base_uri": "https://localhost:8080/"
        },
        "id": "cLHfI2hx5pNM",
        "outputId": "2584aa96-6da5-41d6-9b03-f60e6fe4ea52"
      },
      "source": [
        "keras.backend.clear_session()\n",
        "\n",
        "seed = 7\n",
        "np.random.seed(seed)\n",
        "\n",
        "model_4_2 = keras.models.Sequential([\n",
        "    \n",
        "    keras.layers.Dense(128, kernel_initializer=\"he_normal\",input_shape=(784,)),\n",
        "    keras.layers.BatchNormalization(),\n",
        "    keras.layers.ReLU(),\n",
        "    keras.layers.Dense(64, kernel_initializer=\"he_normal\"),\n",
        "    keras.layers.BatchNormalization(),\n",
        "    keras.layers.ReLU(),\n",
        "    keras.layers.Dense(32, kernel_initializer=\"he_normal\"),\n",
        "    keras.layers.BatchNormalization(),\n",
        "    keras.layers.ReLU(),\n",
        "    keras.layers.Dense(16, kernel_initializer=\"he_normal\"),\n",
        "    keras.layers.ReLU(),\n",
        "    keras.layers.BatchNormalization(),\n",
        "    keras.layers.Dense(10, activation=\"softmax\")\n",
        "])\n",
        "\n",
        "model_4_2.compile(optimizer=\"adam\", loss=\"categorical_crossentropy\", metrics=['accuracy'])\n",
        "\n",
        "model_4_2.summary()"
      ],
      "execution_count": 50,
      "outputs": [
        {
          "output_type": "stream",
          "name": "stdout",
          "text": [
            "Model: \"sequential\"\n",
            "_________________________________________________________________\n",
            "Layer (type)                 Output Shape              Param #   \n",
            "=================================================================\n",
            "dense (Dense)                (None, 128)               100480    \n",
            "_________________________________________________________________\n",
            "batch_normalization (BatchNo (None, 128)               512       \n",
            "_________________________________________________________________\n",
            "re_lu (ReLU)                 (None, 128)               0         \n",
            "_________________________________________________________________\n",
            "dense_1 (Dense)              (None, 64)                8256      \n",
            "_________________________________________________________________\n",
            "batch_normalization_1 (Batch (None, 64)                256       \n",
            "_________________________________________________________________\n",
            "re_lu_1 (ReLU)               (None, 64)                0         \n",
            "_________________________________________________________________\n",
            "dense_2 (Dense)              (None, 32)                2080      \n",
            "_________________________________________________________________\n",
            "batch_normalization_2 (Batch (None, 32)                128       \n",
            "_________________________________________________________________\n",
            "re_lu_2 (ReLU)               (None, 32)                0         \n",
            "_________________________________________________________________\n",
            "dense_3 (Dense)              (None, 16)                528       \n",
            "_________________________________________________________________\n",
            "re_lu_3 (ReLU)               (None, 16)                0         \n",
            "_________________________________________________________________\n",
            "batch_normalization_3 (Batch (None, 16)                64        \n",
            "_________________________________________________________________\n",
            "dense_4 (Dense)              (None, 10)                170       \n",
            "=================================================================\n",
            "Total params: 112,474\n",
            "Trainable params: 111,994\n",
            "Non-trainable params: 480\n",
            "_________________________________________________________________\n"
          ]
        }
      ]
    },
    {
      "cell_type": "code",
      "metadata": {
        "colab": {
          "base_uri": "https://localhost:8080/"
        },
        "id": "31WI5lN35pNN",
        "outputId": "2b8f4dac-f00e-45f5-bf32-b3e1cba5d7f6"
      },
      "source": [
        "NN_4_2 = model_4_2.fit(X_train, y_train, epochs=20, batch_size=196, validation_split=0.2)\n",
        "\n",
        "test_loss, test_acc = model_4_2.evaluate(X_test, y_test)\n",
        "print(\"Model - 5 layers - test loss:\", test_loss)\n",
        "print(\"Model - 5 layers - test accuracy:\", test_acc * 100)"
      ],
      "execution_count": 51,
      "outputs": [
        {
          "output_type": "stream",
          "name": "stdout",
          "text": [
            "Epoch 1/20\n",
            "245/245 [==============================] - 3s 9ms/step - loss: 0.7245 - accuracy: 0.7929 - val_loss: 0.5566 - val_accuracy: 0.8307\n",
            "Epoch 2/20\n",
            "245/245 [==============================] - 2s 8ms/step - loss: 0.3871 - accuracy: 0.8701 - val_loss: 0.4925 - val_accuracy: 0.8306\n",
            "Epoch 3/20\n",
            "245/245 [==============================] - 2s 8ms/step - loss: 0.3334 - accuracy: 0.8822 - val_loss: 0.3811 - val_accuracy: 0.8630\n",
            "Epoch 4/20\n",
            "245/245 [==============================] - 2s 8ms/step - loss: 0.2976 - accuracy: 0.8939 - val_loss: 0.3998 - val_accuracy: 0.8615\n",
            "Epoch 5/20\n",
            "245/245 [==============================] - 2s 8ms/step - loss: 0.2768 - accuracy: 0.9002 - val_loss: 0.3603 - val_accuracy: 0.8738\n",
            "Epoch 6/20\n",
            "245/245 [==============================] - 2s 8ms/step - loss: 0.2582 - accuracy: 0.9062 - val_loss: 0.3626 - val_accuracy: 0.8713\n",
            "Epoch 7/20\n",
            "245/245 [==============================] - 2s 9ms/step - loss: 0.2403 - accuracy: 0.9123 - val_loss: 0.4233 - val_accuracy: 0.8467\n",
            "Epoch 8/20\n",
            "245/245 [==============================] - 2s 9ms/step - loss: 0.2262 - accuracy: 0.9171 - val_loss: 0.3611 - val_accuracy: 0.8750\n",
            "Epoch 9/20\n",
            "245/245 [==============================] - 2s 8ms/step - loss: 0.2141 - accuracy: 0.9221 - val_loss: 0.3748 - val_accuracy: 0.8673\n",
            "Epoch 10/20\n",
            "245/245 [==============================] - 2s 8ms/step - loss: 0.2022 - accuracy: 0.9247 - val_loss: 0.3850 - val_accuracy: 0.8653\n",
            "Epoch 11/20\n",
            "245/245 [==============================] - 2s 8ms/step - loss: 0.1885 - accuracy: 0.9299 - val_loss: 0.3595 - val_accuracy: 0.8799\n",
            "Epoch 12/20\n",
            "245/245 [==============================] - 2s 8ms/step - loss: 0.1817 - accuracy: 0.9325 - val_loss: 0.4215 - val_accuracy: 0.8602\n",
            "Epoch 13/20\n",
            "245/245 [==============================] - 2s 8ms/step - loss: 0.1665 - accuracy: 0.9383 - val_loss: 0.4246 - val_accuracy: 0.8649\n",
            "Epoch 14/20\n",
            "245/245 [==============================] - 2s 8ms/step - loss: 0.1642 - accuracy: 0.9385 - val_loss: 0.3878 - val_accuracy: 0.8777\n",
            "Epoch 15/20\n",
            "245/245 [==============================] - 2s 8ms/step - loss: 0.1547 - accuracy: 0.9429 - val_loss: 0.4294 - val_accuracy: 0.8661\n",
            "Epoch 16/20\n",
            "245/245 [==============================] - 2s 8ms/step - loss: 0.1478 - accuracy: 0.9457 - val_loss: 0.4302 - val_accuracy: 0.8683\n",
            "Epoch 17/20\n",
            "245/245 [==============================] - 2s 8ms/step - loss: 0.1416 - accuracy: 0.9491 - val_loss: 0.4113 - val_accuracy: 0.8776\n",
            "Epoch 18/20\n",
            "245/245 [==============================] - 2s 8ms/step - loss: 0.1356 - accuracy: 0.9500 - val_loss: 0.5149 - val_accuracy: 0.8575\n",
            "Epoch 19/20\n",
            "245/245 [==============================] - 2s 8ms/step - loss: 0.1285 - accuracy: 0.9526 - val_loss: 0.4316 - val_accuracy: 0.8708\n",
            "Epoch 20/20\n",
            "245/245 [==============================] - 2s 8ms/step - loss: 0.1258 - accuracy: 0.9534 - val_loss: 0.4445 - val_accuracy: 0.8687\n",
            "313/313 [==============================] - 1s 2ms/step - loss: 0.4228 - accuracy: 0.8755\n",
            "Model - 5 layers - test loss: 0.42279741168022156\n",
            "Model - 5 layers - test accuracy: 87.55000233650208\n"
          ]
        }
      ]
    },
    {
      "cell_type": "code",
      "metadata": {
        "colab": {
          "base_uri": "https://localhost:8080/",
          "height": 312
        },
        "id": "SzsVyq4M5pNN",
        "outputId": "46a95908-9671-499d-c936-c991325f3d25"
      },
      "source": [
        "plt.plot(NN_4_2.history['loss'], 'blue')\n",
        "plt.plot(NN_4_2.history['val_loss'], 'orange')\n",
        "plt.title('Model loss')\n",
        "plt.ylabel('loss')\n",
        "plt.xlabel('epoch')\n",
        "plt.legend(['train', 'validation'], loc='upper left')"
      ],
      "execution_count": 52,
      "outputs": [
        {
          "output_type": "execute_result",
          "data": {
            "text/plain": [
              "<matplotlib.legend.Legend at 0x7fe9efbb5550>"
            ]
          },
          "metadata": {},
          "execution_count": 52
        },
        {
          "output_type": "display_data",
          "data": {
            "image/png": "[encoded data removed]",
            "text/plain": [
              "<Figure size 432x288 with 1 Axes>"
            ]
          },
          "metadata": {
            "needs_background": "light"
          }
        }
      ]
    },
    {
      "cell_type": "code",
      "metadata": {
        "colab": {
          "base_uri": "https://localhost:8080/",
          "height": 312
        },
        "id": "s9c9s_GK5pNN",
        "outputId": "e46633f6-aabb-41a2-dd5a-8cae432182ea"
      },
      "source": [
        "plt.plot(NN_4_2.history['accuracy'], 'blue')\n",
        "plt.plot(NN_4_2.history['val_accuracy'], 'orange')\n",
        "plt.title('Model accuracy')\n",
        "plt.ylabel('accuracy')\n",
        "plt.xlabel('epoch')\n",
        "plt.legend(['train', 'validation'], loc='upper left')"
      ],
      "execution_count": 53,
      "outputs": [
        {
          "output_type": "execute_result",
          "data": {
            "text/plain": [
              "<matplotlib.legend.Legend at 0x7fe9ee83e050>"
            ]
          },
          "metadata": {},
          "execution_count": 53
        },
        {
          "output_type": "display_data",
          "data": {
            "image/png": "[encoded data removed]",
            "text/plain": [
              "<Figure size 432x288 with 1 Axes>"
            ]
          },
          "metadata": {
            "needs_background": "light"
          }
        }
      ]
    },
    {
      "cell_type": "markdown",
      "metadata": {
        "id": "oEVfIjXX8B9y"
      },
      "source": [
        "**Model 4_3:** </br>\n",
        "1. 5 layers \n",
        "2. 128+64+32+16+10 nodes in total \n",
        "3. Activation- Tanh\n",
        "4. Categorical Crossentropy\n",
        "5. adam optimizer\n",
        "6. Testing, training, Validation (aka Hold-Out Validation)\n",
        "7. Tested in batches (Not necessary cause small model anyways)\n",
        "8. Time taken for 20 epochs- 41s"
      ]
    },
    {
      "cell_type": "code",
      "metadata": {
        "colab": {
          "base_uri": "https://localhost:8080/"
        },
        "id": "gLlfZyfX8B98",
        "outputId": "817034bf-15e2-4b8d-a8a2-e8a82c700945"
      },
      "source": [
        "keras.backend.clear_session()\n",
        "\n",
        "seed = 7\n",
        "np.random.seed(seed)\n",
        "\n",
        "model_4_3 = keras.models.Sequential([\n",
        "    \n",
        "    keras.layers.Dense(128, activation=tf.nn.tanh, kernel_initializer=\"he_normal\",input_shape=(784,)),\n",
        "    keras.layers.BatchNormalization(),\n",
        " \n",
        "    keras.layers.Dense(64, activation=tf.nn.tanh, kernel_initializer=\"he_normal\"),\n",
        "    keras.layers.BatchNormalization(),\n",
        " \n",
        "    keras.layers.Dense(32, activation=tf.nn.tanh, kernel_initializer=\"he_normal\"),\n",
        "    keras.layers.BatchNormalization(),\n",
        "    \n",
        "    keras.layers.Dense(16, activation=tf.nn.tanh, kernel_initializer=\"he_normal\"),\n",
        "    keras.layers.BatchNormalization(),\n",
        "    keras.layers.Dense(10, activation=\"softmax\")\n",
        "])\n",
        "\n",
        "model_4_3.compile(optimizer=\"adam\", loss=\"categorical_crossentropy\", metrics=['accuracy'])\n",
        "\n",
        "model_4_3.summary()"
      ],
      "execution_count": 54,
      "outputs": [
        {
          "output_type": "stream",
          "name": "stdout",
          "text": [
            "Model: \"sequential\"\n",
            "_________________________________________________________________\n",
            "Layer (type)                 Output Shape              Param #   \n",
            "=================================================================\n",
            "dense (Dense)                (None, 128)               100480    \n",
            "_________________________________________________________________\n",
            "batch_normalization (BatchNo (None, 128)               512       \n",
            "_________________________________________________________________\n",
            "dense_1 (Dense)              (None, 64)                8256      \n",
            "_________________________________________________________________\n",
            "batch_normalization_1 (Batch (None, 64)                256       \n",
            "_________________________________________________________________\n",
            "dense_2 (Dense)              (None, 32)                2080      \n",
            "_________________________________________________________________\n",
            "batch_normalization_2 (Batch (None, 32)                128       \n",
            "_________________________________________________________________\n",
            "dense_3 (Dense)              (None, 16)                528       \n",
            "_________________________________________________________________\n",
            "batch_normalization_3 (Batch (None, 16)                64        \n",
            "_________________________________________________________________\n",
            "dense_4 (Dense)              (None, 10)                170       \n",
            "=================================================================\n",
            "Total params: 112,474\n",
            "Trainable params: 111,994\n",
            "Non-trainable params: 480\n",
            "_________________________________________________________________\n"
          ]
        }
      ]
    },
    {
      "cell_type": "code",
      "metadata": {
        "colab": {
          "base_uri": "https://localhost:8080/"
        },
        "id": "U7xr3mtB8B99",
        "outputId": "75e65892-511f-4b5c-99be-d4ca16961564"
      },
      "source": [
        "NN_4_3 = model_4_3.fit(X_train, y_train, epochs=20, batch_size=196, validation_split=0.2)\n",
        "\n",
        "test_loss, test_acc = model_4_3.evaluate(X_test, y_test)\n",
        "print(\"Model - 5 layers - test loss:\", test_loss)\n",
        "print(\"Model - 5 layers - test accuracy:\", test_acc * 100)"
      ],
      "execution_count": 55,
      "outputs": [
        {
          "output_type": "stream",
          "name": "stdout",
          "text": [
            "Epoch 1/20\n",
            "245/245 [==============================] - 4s 10ms/step - loss: 1.0497 - accuracy: 0.6333 - val_loss: 1.4401 - val_accuracy: 0.5384\n",
            "Epoch 2/20\n",
            "245/245 [==============================] - 2s 10ms/step - loss: 0.8505 - accuracy: 0.6751 - val_loss: 1.3782 - val_accuracy: 0.4714\n",
            "Epoch 3/20\n",
            "245/245 [==============================] - 3s 12ms/step - loss: 0.8754 - accuracy: 0.6662 - val_loss: 1.5592 - val_accuracy: 0.4379\n",
            "Epoch 4/20\n",
            "245/245 [==============================] - 3s 11ms/step - loss: 0.8807 - accuracy: 0.6679 - val_loss: 0.9385 - val_accuracy: 0.6641\n",
            "Epoch 5/20\n",
            "245/245 [==============================] - 2s 8ms/step - loss: 0.8038 - accuracy: 0.6914 - val_loss: 1.0696 - val_accuracy: 0.6402\n",
            "Epoch 6/20\n",
            "245/245 [==============================] - 2s 8ms/step - loss: 0.7810 - accuracy: 0.7104 - val_loss: 1.7257 - val_accuracy: 0.4943\n",
            "Epoch 7/20\n",
            "245/245 [==============================] - 2s 9ms/step - loss: 0.7919 - accuracy: 0.7041 - val_loss: 0.8107 - val_accuracy: 0.7104\n",
            "Epoch 8/20\n",
            "245/245 [==============================] - 2s 8ms/step - loss: 0.8244 - accuracy: 0.6898 - val_loss: 0.8392 - val_accuracy: 0.6788\n",
            "Epoch 9/20\n",
            "245/245 [==============================] - 2s 9ms/step - loss: 0.7794 - accuracy: 0.6937 - val_loss: 1.4215 - val_accuracy: 0.5918\n",
            "Epoch 10/20\n",
            "245/245 [==============================] - 2s 8ms/step - loss: 0.7588 - accuracy: 0.7108 - val_loss: 0.9722 - val_accuracy: 0.6316\n",
            "Epoch 11/20\n",
            "245/245 [==============================] - 2s 8ms/step - loss: 0.7465 - accuracy: 0.7062 - val_loss: 0.7443 - val_accuracy: 0.7103\n",
            "Epoch 12/20\n",
            "245/245 [==============================] - 2s 8ms/step - loss: 0.7487 - accuracy: 0.7004 - val_loss: 0.9610 - val_accuracy: 0.6370\n",
            "Epoch 13/20\n",
            "245/245 [==============================] - 2s 9ms/step - loss: 0.7359 - accuracy: 0.7155 - val_loss: 0.9814 - val_accuracy: 0.6423\n",
            "Epoch 14/20\n",
            "245/245 [==============================] - 2s 8ms/step - loss: 0.7373 - accuracy: 0.7160 - val_loss: 1.0069 - val_accuracy: 0.6422\n",
            "Epoch 15/20\n",
            "245/245 [==============================] - 2s 8ms/step - loss: 0.7356 - accuracy: 0.7165 - val_loss: 0.7703 - val_accuracy: 0.6889\n",
            "Epoch 16/20\n",
            "245/245 [==============================] - 2s 8ms/step - loss: 0.7179 - accuracy: 0.7212 - val_loss: 0.7979 - val_accuracy: 0.7026\n",
            "Epoch 17/20\n",
            "245/245 [==============================] - 2s 9ms/step - loss: 0.7489 - accuracy: 0.7115 - val_loss: 0.7565 - val_accuracy: 0.7121\n",
            "Epoch 18/20\n",
            "245/245 [==============================] - 2s 8ms/step - loss: 0.7571 - accuracy: 0.7087 - val_loss: 0.7809 - val_accuracy: 0.7026\n",
            "Epoch 19/20\n",
            "245/245 [==============================] - 2s 8ms/step - loss: 0.7541 - accuracy: 0.7120 - val_loss: 0.8051 - val_accuracy: 0.6848\n",
            "Epoch 20/20\n",
            "245/245 [==============================] - 2s 8ms/step - loss: 0.7318 - accuracy: 0.7197 - val_loss: 0.7544 - val_accuracy: 0.7026\n",
            "313/313 [==============================] - 1s 2ms/step - loss: 0.7504 - accuracy: 0.7049\n",
            "Model - 5 layers - test loss: 0.7504052519798279\n",
            "Model - 5 layers - test accuracy: 70.49000263214111\n"
          ]
        }
      ]
    },
    {
      "cell_type": "code",
      "metadata": {
        "colab": {
          "base_uri": "https://localhost:8080/",
          "height": 312
        },
        "id": "rRIeXu3Y8B99",
        "outputId": "ebbce277-6011-41c6-c818-529c1cb031f3"
      },
      "source": [
        "plt.plot(NN_4_3.history['loss'], 'blue')\n",
        "plt.plot(NN_4_3.history['val_loss'], 'orange')\n",
        "plt.title('Model loss')\n",
        "plt.ylabel('loss')\n",
        "plt.xlabel('epoch')\n",
        "plt.legend(['train', 'validation'], loc='upper left')"
      ],
      "execution_count": 56,
      "outputs": [
        {
          "output_type": "execute_result",
          "data": {
            "text/plain": [
              "<matplotlib.legend.Legend at 0x7fe9ed47ff50>"
            ]
          },
          "metadata": {},
          "execution_count": 56
        },
        {
          "output_type": "display_data",
          "data": {
            "image/png": "[encoded data removed]",
            "text/plain": [
              "<Figure size 432x288 with 1 Axes>"
            ]
          },
          "metadata": {
            "needs_background": "light"
          }
        }
      ]
    },
    {
      "cell_type": "code",
      "metadata": {
        "colab": {
          "base_uri": "https://localhost:8080/",
          "height": 312
        },
        "id": "s-G74cSE8B99",
        "outputId": "c84b630f-2d95-4e9b-b93e-8950b358d4f3"
      },
      "source": [
        "plt.plot(NN_4_3.history['accuracy'], 'blue')\n",
        "plt.plot(NN_4_3.history['val_accuracy'], 'orange')\n",
        "plt.title('Model accuracy')\n",
        "plt.ylabel('accuracy')\n",
        "plt.xlabel('epoch')\n",
        "plt.legend(['train', 'validation'], loc='upper left')"
      ],
      "execution_count": 57,
      "outputs": [
        {
          "output_type": "execute_result",
          "data": {
            "text/plain": [
              "<matplotlib.legend.Legend at 0x7fe9ed4b4690>"
            ]
          },
          "metadata": {},
          "execution_count": 57
        },
        {
          "output_type": "display_data",
          "data": {
            "image/png": "[encoded data removed]",
            "text/plain": [
              "<Figure size 432x288 with 1 Axes>"
            ]
          },
          "metadata": {
            "needs_background": "light"
          }
        }
      ]
    },
    {
      "cell_type": "markdown",
      "metadata": {
        "id": "WRCTcgzZBEQY"
      },
      "source": [
        "**Model 4_4:** </br>\n",
        "1. 5 layers \n",
        "2. 128+64+32+16+10 nodes in total \n",
        "3. Activation- sigmoid\n",
        "4. Categorical Crossentropy\n",
        "5. adam optimizer\n",
        "6. Testing, training, Validation (aka Hold-Out Validation)\n",
        "7. Tested in batches (Not necessary cause small model anyways)\n",
        "8. Time taken for 20 epochs- 41s"
      ]
    },
    {
      "cell_type": "code",
      "metadata": {
        "colab": {
          "base_uri": "https://localhost:8080/"
        },
        "id": "zdvo59WEBEQZ",
        "outputId": "5f5fbcc3-728d-4c11-d078-8accd583bb51"
      },
      "source": [
        "keras.backend.clear_session()\n",
        "\n",
        "seed = 7\n",
        "np.random.seed(seed)\n",
        "\n",
        "model_4_4 = keras.models.Sequential([\n",
        "    \n",
        "    keras.layers.Dense(128,activation=tf.nn.sigmoid, kernel_initializer=\"he_normal\",input_shape=(784,)),\n",
        "    keras.layers.BatchNormalization(),\n",
        "    \n",
        "    keras.layers.Dense(64,activation=tf.nn.sigmoid, kernel_initializer=\"he_normal\"),\n",
        "    keras.layers.BatchNormalization(),\n",
        "    \n",
        "    keras.layers.Dense(32,activation=tf.nn.sigmoid, kernel_initializer=\"he_normal\"),\n",
        "    keras.layers.BatchNormalization(),\n",
        "    \n",
        "    keras.layers.Dense(16,activation=tf.nn.sigmoid, kernel_initializer=\"he_normal\"),\n",
        "    \n",
        "    keras.layers.BatchNormalization(),\n",
        "    keras.layers.Dense(10, activation=\"softmax\")\n",
        "])\n",
        "\n",
        "model_4_4.compile(optimizer=\"adam\", loss=\"categorical_crossentropy\", metrics=['accuracy'])\n",
        "\n",
        "model_4_4.summary()"
      ],
      "execution_count": 58,
      "outputs": [
        {
          "output_type": "stream",
          "name": "stdout",
          "text": [
            "Model: \"sequential\"\n",
            "_________________________________________________________________\n",
            "Layer (type)                 Output Shape              Param #   \n",
            "=================================================================\n",
            "dense (Dense)                (None, 128)               100480    \n",
            "_________________________________________________________________\n",
            "batch_normalization (BatchNo (None, 128)               512       \n",
            "_________________________________________________________________\n",
            "dense_1 (Dense)              (None, 64)                8256      \n",
            "_________________________________________________________________\n",
            "batch_normalization_1 (Batch (None, 64)                256       \n",
            "_________________________________________________________________\n",
            "dense_2 (Dense)              (None, 32)                2080      \n",
            "_________________________________________________________________\n",
            "batch_normalization_2 (Batch (None, 32)                128       \n",
            "_________________________________________________________________\n",
            "dense_3 (Dense)              (None, 16)                528       \n",
            "_________________________________________________________________\n",
            "batch_normalization_3 (Batch (None, 16)                64        \n",
            "_________________________________________________________________\n",
            "dense_4 (Dense)              (None, 10)                170       \n",
            "=================================================================\n",
            "Total params: 112,474\n",
            "Trainable params: 111,994\n",
            "Non-trainable params: 480\n",
            "_________________________________________________________________\n"
          ]
        }
      ]
    },
    {
      "cell_type": "code",
      "metadata": {
        "colab": {
          "base_uri": "https://localhost:8080/"
        },
        "id": "eaWdaUqdBEQb",
        "outputId": "80e9f372-a2f4-4647-a27d-4e919548183c"
      },
      "source": [
        "NN_4_4 = model_4_4.fit(X_train, y_train, epochs=20, batch_size=196, validation_split=0.2)\n",
        "\n",
        "test_loss, test_acc = model_4_4.evaluate(X_test, y_test)\n",
        "print(\"Model - 5 layers - test loss:\", test_loss)\n",
        "print(\"Model - 5 layers - test accuracy:\", test_acc * 100)"
      ],
      "execution_count": 59,
      "outputs": [
        {
          "output_type": "stream",
          "name": "stdout",
          "text": [
            "Epoch 1/20\n",
            "245/245 [==============================] - 4s 10ms/step - loss: 0.8930 - accuracy: 0.6940 - val_loss: 1.2281 - val_accuracy: 0.6482\n",
            "Epoch 2/20\n",
            "245/245 [==============================] - 2s 8ms/step - loss: 0.7247 - accuracy: 0.7241 - val_loss: 0.8599 - val_accuracy: 0.6939\n",
            "Epoch 3/20\n",
            "245/245 [==============================] - 2s 9ms/step - loss: 0.7138 - accuracy: 0.7232 - val_loss: 0.8454 - val_accuracy: 0.6865\n",
            "Epoch 4/20\n",
            "245/245 [==============================] - 2s 8ms/step - loss: 0.6966 - accuracy: 0.7350 - val_loss: 0.7744 - val_accuracy: 0.6926\n",
            "Epoch 5/20\n",
            "245/245 [==============================] - 2s 8ms/step - loss: 0.6882 - accuracy: 0.7301 - val_loss: 0.8097 - val_accuracy: 0.6531\n",
            "Epoch 6/20\n",
            "245/245 [==============================] - 2s 8ms/step - loss: 0.6580 - accuracy: 0.7461 - val_loss: 0.6781 - val_accuracy: 0.7419\n",
            "Epoch 7/20\n",
            "245/245 [==============================] - 2s 9ms/step - loss: 0.6631 - accuracy: 0.7468 - val_loss: 0.6902 - val_accuracy: 0.7290\n",
            "Epoch 8/20\n",
            "245/245 [==============================] - 2s 8ms/step - loss: 0.6578 - accuracy: 0.7462 - val_loss: 0.7417 - val_accuracy: 0.7234\n",
            "Epoch 9/20\n",
            "245/245 [==============================] - 2s 8ms/step - loss: 0.6571 - accuracy: 0.7483 - val_loss: 1.0906 - val_accuracy: 0.5528\n",
            "Epoch 10/20\n",
            "245/245 [==============================] - 2s 8ms/step - loss: 0.6786 - accuracy: 0.7469 - val_loss: 0.7040 - val_accuracy: 0.7357\n",
            "Epoch 11/20\n",
            "245/245 [==============================] - 2s 9ms/step - loss: 0.6833 - accuracy: 0.7469 - val_loss: 0.7181 - val_accuracy: 0.7336\n",
            "Epoch 12/20\n",
            "245/245 [==============================] - 2s 9ms/step - loss: 0.6299 - accuracy: 0.7621 - val_loss: 0.6655 - val_accuracy: 0.7444\n",
            "Epoch 13/20\n",
            "245/245 [==============================] - 2s 8ms/step - loss: 0.6278 - accuracy: 0.7656 - val_loss: 0.6180 - val_accuracy: 0.7624\n",
            "Epoch 14/20\n",
            "245/245 [==============================] - 2s 8ms/step - loss: 0.6240 - accuracy: 0.7609 - val_loss: 0.7136 - val_accuracy: 0.7217\n",
            "Epoch 15/20\n",
            "245/245 [==============================] - 2s 8ms/step - loss: 0.6388 - accuracy: 0.7597 - val_loss: 0.7214 - val_accuracy: 0.7424\n",
            "Epoch 16/20\n",
            "245/245 [==============================] - 2s 8ms/step - loss: 0.6095 - accuracy: 0.7684 - val_loss: 0.7283 - val_accuracy: 0.7321\n",
            "Epoch 17/20\n",
            "245/245 [==============================] - 2s 8ms/step - loss: 0.6281 - accuracy: 0.7628 - val_loss: 0.6736 - val_accuracy: 0.7281\n",
            "Epoch 18/20\n",
            "245/245 [==============================] - 2s 9ms/step - loss: 0.6513 - accuracy: 0.7449 - val_loss: 0.8524 - val_accuracy: 0.6469\n",
            "Epoch 19/20\n",
            "245/245 [==============================] - 2s 8ms/step - loss: 0.6088 - accuracy: 0.7725 - val_loss: 0.6335 - val_accuracy: 0.7617\n",
            "Epoch 20/20\n",
            "245/245 [==============================] - 2s 9ms/step - loss: 0.5911 - accuracy: 0.7774 - val_loss: 0.5867 - val_accuracy: 0.7934\n",
            "313/313 [==============================] - 1s 2ms/step - loss: 0.5919 - accuracy: 0.7906\n",
            "Model - 5 layers - test loss: 0.5918754935264587\n",
            "Model - 5 layers - test accuracy: 79.06000018119812\n"
          ]
        }
      ]
    },
    {
      "cell_type": "code",
      "metadata": {
        "colab": {
          "base_uri": "https://localhost:8080/",
          "height": 312
        },
        "id": "3hdpdyR3BEQc",
        "outputId": "2a284aed-5bff-4581-84d1-defda1232416"
      },
      "source": [
        "plt.plot(NN_4_4.history['loss'], 'blue')\n",
        "plt.plot(NN_4_4.history['val_loss'], 'orange')\n",
        "plt.title('Model loss')\n",
        "plt.ylabel('loss')\n",
        "plt.xlabel('epoch')\n",
        "plt.legend(['train', 'validation'], loc='upper left')"
      ],
      "execution_count": 60,
      "outputs": [
        {
          "output_type": "execute_result",
          "data": {
            "text/plain": [
              "<matplotlib.legend.Legend at 0x7fe9ed0cd750>"
            ]
          },
          "metadata": {},
          "execution_count": 60
        },
        {
          "output_type": "display_data",
          "data": {
            "image/png": "[encoded data removed]",
            "text/plain": [
              "<Figure size 432x288 with 1 Axes>"
            ]
          },
          "metadata": {
            "needs_background": "light"
          }
        }
      ]
    },
    {
      "cell_type": "code",
      "metadata": {
        "colab": {
          "base_uri": "https://localhost:8080/",
          "height": 312
        },
        "id": "FuYHHGNpBEQd",
        "outputId": "6eed04bf-865b-48f3-afb9-259d09389261"
      },
      "source": [
        "plt.plot(NN_4_4.history['accuracy'], 'blue')\n",
        "plt.plot(NN_4_4.history['val_accuracy'], 'orange')\n",
        "plt.title('Model accuracy')\n",
        "plt.ylabel('accuracy')\n",
        "plt.xlabel('epoch')\n",
        "plt.legend(['train', 'validation'], loc='upper left')"
      ],
      "execution_count": 61,
      "outputs": [
        {
          "output_type": "execute_result",
          "data": {
            "text/plain": [
              "<matplotlib.legend.Legend at 0x7fe9ebe87f50>"
            ]
          },
          "metadata": {},
          "execution_count": 61
        },
        {
          "output_type": "display_data",
          "data": {
            "image/png": "[encoded data removed]",
            "text/plain": [
              "<Figure size 432x288 with 1 Axes>"
            ]
          },
          "metadata": {
            "needs_background": "light"
          }
        }
      ]
    },
    {
      "cell_type": "markdown",
      "metadata": {
        "id": "iEjFnbOqumuY"
      },
      "source": [
        "**Model 4_5:**\n",
        "1. 4 layers\n",
        "2. 128+64+32+10 nodes in total\n",
        "3. Activation- ReLu\n",
        "4. Loss- KL Divergence\n",
        "5. adam optimizer\n",
        "6. Testing, training\n",
        "7. Time taken for 20 epochs- 92s\n"
      ]
    },
    {
      "cell_type": "code",
      "metadata": {
        "id": "GUJO9NmzOgcJ",
        "colab": {
          "base_uri": "https://localhost:8080/"
        },
        "outputId": "cdefd239-df19-4055-c9fd-71bf50b61ea6"
      },
      "source": [
        "keras.backend.clear_session()\n",
        "\n",
        "seed = 7\n",
        "np.random.seed(seed)\n",
        "\n",
        "model_4_5 = keras.Sequential([\n",
        "    keras.layers.Dense(units=128, activation=tf.nn.relu, input_shape=(784, )), #input layer\n",
        "    keras.layers.Dense(units=64, activation=tf.nn.relu), #1 hidden layer\n",
        "    keras.layers.Dense(units=32, activation=tf.nn.relu), #2 hidden layer\n",
        "    keras.layers.Dense(units=10, activation=tf.nn.softmax) #output layer\n",
        "])\n",
        "model_4_5.summary() \n",
        "\n",
        "model_4_5.compile(optimizer=\"adam\", loss='kl_divergence', metrics=['accuracy'])"
      ],
      "execution_count": 62,
      "outputs": [
        {
          "output_type": "stream",
          "name": "stdout",
          "text": [
            "Model: \"sequential\"\n",
            "_________________________________________________________________\n",
            "Layer (type)                 Output Shape              Param #   \n",
            "=================================================================\n",
            "dense (Dense)                (None, 128)               100480    \n",
            "_________________________________________________________________\n",
            "dense_1 (Dense)              (None, 64)                8256      \n",
            "_________________________________________________________________\n",
            "dense_2 (Dense)              (None, 32)                2080      \n",
            "_________________________________________________________________\n",
            "dense_3 (Dense)              (None, 10)                330       \n",
            "=================================================================\n",
            "Total params: 111,146\n",
            "Trainable params: 111,146\n",
            "Non-trainable params: 0\n",
            "_________________________________________________________________\n"
          ]
        }
      ]
    },
    {
      "cell_type": "code",
      "metadata": {
        "colab": {
          "base_uri": "https://localhost:8080/"
        },
        "id": "fzgOPEhVwEiA",
        "outputId": "41194fac-ab36-426f-f09f-1f6c2a2ea908"
      },
      "source": [
        "NN_3b = model_4_5.fit(X_train, y_train, epochs=20)\n",
        "\n",
        "test_loss, test_acc = model_4_5.evaluate(X_test, y_test)\n",
        "print(\"Model - 4 layers - test loss:\", test_loss)\n",
        "print(\"Model - 4 layers - test accuracy:\", test_acc * 100)"
      ],
      "execution_count": 63,
      "outputs": [
        {
          "output_type": "stream",
          "name": "stdout",
          "text": [
            "Epoch 1/20\n",
            "1875/1875 [==============================] - 6s 3ms/step - loss: 13.5061 - accuracy: 0.1616\n",
            "Epoch 2/20\n",
            "1875/1875 [==============================] - 5s 3ms/step - loss: 13.4762 - accuracy: 0.1638\n",
            "Epoch 3/20\n",
            "1875/1875 [==============================] - 5s 3ms/step - loss: 14.1893 - accuracy: 0.1196\n",
            "Epoch 4/20\n",
            "1875/1875 [==============================] - 5s 3ms/step - loss: 13.8358 - accuracy: 0.1415\n",
            "Epoch 5/20\n",
            "1875/1875 [==============================] - 6s 3ms/step - loss: 13.1334 - accuracy: 0.1851\n",
            "Epoch 6/20\n",
            "1875/1875 [==============================] - 5s 3ms/step - loss: 13.1225 - accuracy: 0.1858\n",
            "Epoch 7/20\n",
            "1875/1875 [==============================] - 6s 3ms/step - loss: 13.0395 - accuracy: 0.1910\n",
            "Epoch 8/20\n",
            "1875/1875 [==============================] - 5s 3ms/step - loss: 13.0258 - accuracy: 0.1918\n",
            "Epoch 9/20\n",
            "1875/1875 [==============================] - 5s 3ms/step - loss: 12.9460 - accuracy: 0.1968\n",
            "Epoch 10/20\n",
            "1875/1875 [==============================] - 5s 3ms/step - loss: 12.9460 - accuracy: 0.1968\n",
            "Epoch 11/20\n",
            "1875/1875 [==============================] - 6s 3ms/step - loss: 12.9460 - accuracy: 0.1968\n",
            "Epoch 12/20\n",
            "1875/1875 [==============================] - 6s 3ms/step - loss: 12.9460 - accuracy: 0.1968\n",
            "Epoch 13/20\n",
            "1875/1875 [==============================] - 5s 3ms/step - loss: 12.9460 - accuracy: 0.1968\n",
            "Epoch 14/20\n",
            "1875/1875 [==============================] - 5s 3ms/step - loss: 12.9460 - accuracy: 0.1968\n",
            "Epoch 15/20\n",
            "1875/1875 [==============================] - 6s 3ms/step - loss: 12.9460 - accuracy: 0.1968\n",
            "Epoch 16/20\n",
            "1875/1875 [==============================] - 6s 3ms/step - loss: 12.9460 - accuracy: 0.1968\n",
            "Epoch 17/20\n",
            "1875/1875 [==============================] - 6s 3ms/step - loss: 12.9460 - accuracy: 0.1968\n",
            "Epoch 18/20\n",
            "1875/1875 [==============================] - 6s 3ms/step - loss: 12.9460 - accuracy: 0.1968\n",
            "Epoch 19/20\n",
            "1875/1875 [==============================] - 5s 3ms/step - loss: 12.9460 - accuracy: 0.1968\n",
            "Epoch 20/20\n",
            "1875/1875 [==============================] - 6s 3ms/step - loss: 12.9460 - accuracy: 0.1968\n",
            "313/313 [==============================] - 1s 2ms/step - loss: 12.9509 - accuracy: 0.1965\n",
            "Model - 4 layers - test loss: 12.950885772705078\n",
            "Model - 4 layers - test accuracy: 19.65000033378601\n"
          ]
        }
      ]
    },
    {
      "cell_type": "code",
      "metadata": {
        "colab": {
          "base_uri": "https://localhost:8080/",
          "height": 312
        },
        "id": "ylW6yLH6xGnR",
        "outputId": "6e05ea04-1976-410f-cf8f-e2cf98cdf49f"
      },
      "source": [
        "plt.plot(NN_3b.history['loss'], 'blue')\n",
        "plt.title('Model loss')\n",
        "plt.ylabel('loss')\n",
        "plt.xlabel('epoch')\n",
        "plt.legend(['train'], loc='upper left')"
      ],
      "execution_count": 64,
      "outputs": [
        {
          "output_type": "execute_result",
          "data": {
            "text/plain": [
              "<matplotlib.legend.Legend at 0x7fe9ecdf7610>"
            ]
          },
          "metadata": {},
          "execution_count": 64
        },
        {
          "output_type": "display_data",
          "data": {
            "image/png": "[encoded data removed]",
            "text/plain": [
              "<Figure size 432x288 with 1 Axes>"
            ]
          },
          "metadata": {
            "needs_background": "light"
          }
        }
      ]
    },
    {
      "cell_type": "code",
      "metadata": {
        "colab": {
          "base_uri": "https://localhost:8080/",
          "height": 312
        },
        "id": "tUl2PFzkxZex",
        "outputId": "857c162e-0ff7-4c10-d07d-adfdb2a49205"
      },
      "source": [
        "plt.plot(NN_3b.history['accuracy'], 'blue')\n",
        "plt.title('Model accuracy')\n",
        "plt.ylabel('accuracy')\n",
        "plt.xlabel('epoch')\n",
        "plt.legend(['train'], loc='upper left')"
      ],
      "execution_count": 65,
      "outputs": [
        {
          "output_type": "execute_result",
          "data": {
            "text/plain": [
              "<matplotlib.legend.Legend at 0x7fe9ece73890>"
            ]
          },
          "metadata": {},
          "execution_count": 65
        },
        {
          "output_type": "display_data",
          "data": {
            "image/png": "[encoded data removed]",
            "text/plain": [
              "<Figure size 432x288 with 1 Axes>"
            ]
          },
          "metadata": {
            "needs_background": "light"
          }
        }
      ]
    },
    {
      "cell_type": "markdown",
      "metadata": {
        "id": "D3ZnTbHyyiCT"
      },
      "source": [
        "**Model 4_6:**\n",
        "\n",
        "1. 3 layers\n",
        "2. 128+64+10 nodes in total\n",
        "3. Activation- Sigmoid\n",
        "4. Loss- Categorical Cross Entropy Loss\n",
        "5. Only testing and training\n",
        "6. Time taken for 15 epochs- 77s"
      ]
    },
    {
      "cell_type": "code",
      "metadata": {
        "colab": {
          "base_uri": "https://localhost:8080/"
        },
        "id": "1ZUk-UYwyqy5",
        "outputId": "eb40b459-ebe8-48ea-e7cb-31bc679b2c3b"
      },
      "source": [
        "keras.backend.clear_session()\n",
        "\n",
        "seed = 7\n",
        "np.random.seed(seed)\n",
        "\n",
        "model_4_6 = keras.Sequential([\n",
        "    keras.layers.Dense(units=128, activation=tf.nn.sigmoid, input_shape=(784, )), #input layer\n",
        "    keras.layers.Dense(units=64, activation=tf.nn.sigmoid), #1 hidden layer\n",
        "    keras.layers.Dense(units=10, activation=tf.nn.softmax) #output layer\n",
        "])\n",
        "model_4_6.summary() \n",
        "\n",
        "# Step 2 - Compile the model\n",
        "model_4_6.compile(loss='categorical_crossentropy', metrics=['accuracy'])"
      ],
      "execution_count": 66,
      "outputs": [
        {
          "output_type": "stream",
          "name": "stdout",
          "text": [
            "Model: \"sequential\"\n",
            "_________________________________________________________________\n",
            "Layer (type)                 Output Shape              Param #   \n",
            "=================================================================\n",
            "dense (Dense)                (None, 128)               100480    \n",
            "_________________________________________________________________\n",
            "dense_1 (Dense)              (None, 64)                8256      \n",
            "_________________________________________________________________\n",
            "dense_2 (Dense)              (None, 10)                650       \n",
            "=================================================================\n",
            "Total params: 109,386\n",
            "Trainable params: 109,386\n",
            "Non-trainable params: 0\n",
            "_________________________________________________________________\n"
          ]
        }
      ]
    },
    {
      "cell_type": "code",
      "metadata": {
        "colab": {
          "base_uri": "https://localhost:8080/"
        },
        "id": "io_OQLTlzT4h",
        "outputId": "b8340405-bee5-459f-be3f-64792889d06f"
      },
      "source": [
        "NN_3 = model_4_6.fit(X_train, y_train, epochs=15)\n",
        "\n",
        "test_loss, test_acc = model_4_6.evaluate(X_test, y_test)\n",
        "print(\"Model - 3 layers - test loss:\", test_loss)\n",
        "print(\"Model - 3 layers - test accuracy:\", test_acc * 100)"
      ],
      "execution_count": 67,
      "outputs": [
        {
          "output_type": "stream",
          "name": "stdout",
          "text": [
            "Epoch 1/15\n",
            "1875/1875 [==============================] - 8s 4ms/step - loss: 0.7737 - accuracy: 0.7231\n",
            "Epoch 2/15\n",
            "1875/1875 [==============================] - 6s 3ms/step - loss: 0.5799 - accuracy: 0.7861\n",
            "Epoch 3/15\n",
            "1875/1875 [==============================] - 6s 3ms/step - loss: 0.5492 - accuracy: 0.7983\n",
            "Epoch 4/15\n",
            "1875/1875 [==============================] - 7s 4ms/step - loss: 0.5273 - accuracy: 0.8079\n",
            "Epoch 5/15\n",
            "1875/1875 [==============================] - 7s 4ms/step - loss: 0.5169 - accuracy: 0.8137\n",
            "Epoch 6/15\n",
            "1875/1875 [==============================] - 7s 4ms/step - loss: 0.5045 - accuracy: 0.8169\n",
            "Epoch 7/15\n",
            "1875/1875 [==============================] - 6s 3ms/step - loss: 0.4929 - accuracy: 0.8218\n",
            "Epoch 8/15\n",
            "1875/1875 [==============================] - 6s 3ms/step - loss: 0.4879 - accuracy: 0.8258\n",
            "Epoch 9/15\n",
            "1875/1875 [==============================] - 6s 3ms/step - loss: 0.4895 - accuracy: 0.8259\n",
            "Epoch 10/15\n",
            "1875/1875 [==============================] - 6s 3ms/step - loss: 0.4794 - accuracy: 0.8294\n",
            "Epoch 11/15\n",
            "1875/1875 [==============================] - 7s 4ms/step - loss: 0.4761 - accuracy: 0.8305\n",
            "Epoch 12/15\n",
            "1875/1875 [==============================] - 7s 4ms/step - loss: 0.4712 - accuracy: 0.8308\n",
            "Epoch 13/15\n",
            "1875/1875 [==============================] - 7s 4ms/step - loss: 0.4733 - accuracy: 0.8297\n",
            "Epoch 14/15\n",
            "1875/1875 [==============================] - 7s 4ms/step - loss: 0.4676 - accuracy: 0.8329\n",
            "Epoch 15/15\n",
            "1875/1875 [==============================] - 7s 4ms/step - loss: 0.4593 - accuracy: 0.8363\n",
            "313/313 [==============================] - 1s 2ms/step - loss: 0.4695 - accuracy: 0.8346\n",
            "Model - 3 layers - test loss: 0.4695035219192505\n",
            "Model - 3 layers - test accuracy: 83.45999717712402\n"
          ]
        }
      ]
    },
    {
      "cell_type": "code",
      "metadata": {
        "colab": {
          "base_uri": "https://localhost:8080/",
          "height": 312
        },
        "id": "ows6oXow0MPx",
        "outputId": "46fca341-31ab-4ff4-8ba1-c6dd26aa4890"
      },
      "source": [
        "plt.plot(NN_3.history['loss'], 'blue')\n",
        "plt.title('Model loss')\n",
        "plt.ylabel('loss')\n",
        "plt.xlabel('epoch')\n",
        "plt.legend(['train'], loc='upper left')"
      ],
      "execution_count": 68,
      "outputs": [
        {
          "output_type": "execute_result",
          "data": {
            "text/plain": [
              "<matplotlib.legend.Legend at 0x7fe9ecba5c10>"
            ]
          },
          "metadata": {},
          "execution_count": 68
        },
        {
          "output_type": "display_data",
          "data": {
            "image/png": "[encoded data removed]",
            "text/plain": [
              "<Figure size 432x288 with 1 Axes>"
            ]
          },
          "metadata": {
            "needs_background": "light"
          }
        }
      ]
    },
    {
      "cell_type": "code",
      "metadata": {
        "colab": {
          "base_uri": "https://localhost:8080/",
          "height": 312
        },
        "id": "_KU9af3f0W-M",
        "outputId": "c5d82215-c3d5-4f32-cc27-388f0a63ba00"
      },
      "source": [
        "plt.plot(NN_3.history['accuracy'], 'blue')\n",
        "plt.title('Model accuracy')\n",
        "plt.ylabel('accuracy')\n",
        "plt.xlabel('epoch')\n",
        "plt.legend(['train'], loc='upper left')"
      ],
      "execution_count": 69,
      "outputs": [
        {
          "output_type": "execute_result",
          "data": {
            "text/plain": [
              "<matplotlib.legend.Legend at 0x7fe9ecdc0990>"
            ]
          },
          "metadata": {},
          "execution_count": 69
        },
        {
          "output_type": "display_data",
          "data": {
            "image/png": "[encoded data removed]",
            "text/plain": [
              "<Figure size 432x288 with 1 Axes>"
            ]
          },
          "metadata": {
            "needs_background": "light"
          }
        }
      ]
    },
    {
      "cell_type": "markdown",
      "metadata": {
        "id": "L7elXeaW4bve"
      },
      "source": [
        "**Model 4_7:**\n",
        "\n",
        "1. 3 layers\n",
        "2. 128+64+10 nodes in total\n",
        "3. Activation- TanH\n",
        "4. Loss- Categorical Cross Entropy Loss\n",
        "5. Only testing and training\n",
        "6. Time taken for 15 epochs- 45s"
      ]
    },
    {
      "cell_type": "code",
      "metadata": {
        "colab": {
          "base_uri": "https://localhost:8080/"
        },
        "id": "OU5VyEog4f8K",
        "outputId": "d2d9b404-57a0-48f8-93f7-693a3cdf7fdc"
      },
      "source": [
        "keras.backend.clear_session()\n",
        "\n",
        "seed = 7\n",
        "np.random.seed(seed)\n",
        "\n",
        "model_4_7 = keras.Sequential([\n",
        "    keras.layers.Dense(units=128, activation=tf.nn.tanh, input_shape=(784, )), #input layer\n",
        "    keras.layers.Dense(units=64, activation=tf.nn.tanh), #1 hidden layer\n",
        "    keras.layers.Dense(units=10, activation=tf.nn.softmax) #output layer\n",
        "])\n",
        "model_4_7.summary() \n",
        "\n",
        "# Step 2 - Compile the model\n",
        "model_4_7.compile(loss='categorical_crossentropy', metrics=['accuracy'])"
      ],
      "execution_count": 70,
      "outputs": [
        {
          "output_type": "stream",
          "name": "stdout",
          "text": [
            "Model: \"sequential\"\n",
            "_________________________________________________________________\n",
            "Layer (type)                 Output Shape              Param #   \n",
            "=================================================================\n",
            "dense (Dense)                (None, 128)               100480    \n",
            "_________________________________________________________________\n",
            "dense_1 (Dense)              (None, 64)                8256      \n",
            "_________________________________________________________________\n",
            "dense_2 (Dense)              (None, 10)                650       \n",
            "=================================================================\n",
            "Total params: 109,386\n",
            "Trainable params: 109,386\n",
            "Non-trainable params: 0\n",
            "_________________________________________________________________\n"
          ]
        }
      ]
    },
    {
      "cell_type": "code",
      "metadata": {
        "id": "OQlHbWk_5K76",
        "colab": {
          "base_uri": "https://localhost:8080/"
        },
        "outputId": "c8dab07d-2029-4793-c8ec-7cc2e176fae2"
      },
      "source": [
        "NN_3 = model_4_7.fit(X_train, y_train, epochs=15)\n",
        "\n",
        "test_loss, test_acc = model_4_7.evaluate(X_test, y_test)\n",
        "print(\"Model - 3 layers - test loss:\", test_loss)\n",
        "print(\"Model - 3 layers - test accuracy:\", test_acc * 100)"
      ],
      "execution_count": 71,
      "outputs": [
        {
          "output_type": "stream",
          "name": "stdout",
          "text": [
            "Epoch 1/15\n",
            "1875/1875 [==============================] - 7s 4ms/step - loss: 0.7665 - accuracy: 0.7084\n",
            "Epoch 2/15\n",
            "1875/1875 [==============================] - 7s 4ms/step - loss: 0.6395 - accuracy: 0.7597\n",
            "Epoch 3/15\n",
            "1875/1875 [==============================] - 7s 4ms/step - loss: 0.6003 - accuracy: 0.7736\n",
            "Epoch 4/15\n",
            "1875/1875 [==============================] - 7s 4ms/step - loss: 0.5724 - accuracy: 0.7857\n",
            "Epoch 5/15\n",
            "1875/1875 [==============================] - 7s 4ms/step - loss: 0.5575 - accuracy: 0.7948\n",
            "Epoch 6/15\n",
            "1875/1875 [==============================] - 7s 4ms/step - loss: 0.5464 - accuracy: 0.7997\n",
            "Epoch 7/15\n",
            "1875/1875 [==============================] - 7s 4ms/step - loss: 0.5443 - accuracy: 0.8005\n",
            "Epoch 8/15\n",
            "1875/1875 [==============================] - 7s 4ms/step - loss: 0.5381 - accuracy: 0.8024\n",
            "Epoch 9/15\n",
            "1875/1875 [==============================] - 7s 4ms/step - loss: 0.5243 - accuracy: 0.8067\n",
            "Epoch 10/15\n",
            "1875/1875 [==============================] - 7s 4ms/step - loss: 0.5150 - accuracy: 0.8117\n",
            "Epoch 11/15\n",
            "1875/1875 [==============================] - 7s 4ms/step - loss: 0.5118 - accuracy: 0.8144\n",
            "Epoch 12/15\n",
            "1875/1875 [==============================] - 7s 4ms/step - loss: 0.5092 - accuracy: 0.8163\n",
            "Epoch 13/15\n",
            "1875/1875 [==============================] - 7s 4ms/step - loss: 0.5081 - accuracy: 0.8153\n",
            "Epoch 14/15\n",
            "1875/1875 [==============================] - 6s 3ms/step - loss: 0.5024 - accuracy: 0.8185\n",
            "Epoch 15/15\n",
            "1875/1875 [==============================] - 6s 3ms/step - loss: 0.5024 - accuracy: 0.8198\n",
            "313/313 [==============================] - 1s 1ms/step - loss: 0.5013 - accuracy: 0.8192\n",
            "Model - 3 layers - test loss: 0.501278281211853\n",
            "Model - 3 layers - test accuracy: 81.91999793052673\n"
          ]
        }
      ]
    },
    {
      "cell_type": "code",
      "metadata": {
        "colab": {
          "base_uri": "https://localhost:8080/",
          "height": 312
        },
        "id": "hsuSIrlF6jz0",
        "outputId": "12ff6966-9fd0-45eb-803e-02c17e11ae03"
      },
      "source": [
        "plt.plot(NN_3.history['loss'], 'blue')\n",
        "plt.title('Model loss')\n",
        "plt.ylabel('loss')\n",
        "plt.xlabel('epoch')\n",
        "plt.legend(['train'], loc='upper left')"
      ],
      "execution_count": 72,
      "outputs": [
        {
          "output_type": "execute_result",
          "data": {
            "text/plain": [
              "<matplotlib.legend.Legend at 0x7fe9ec8be6d0>"
            ]
          },
          "metadata": {},
          "execution_count": 72
        },
        {
          "output_type": "display_data",
          "data": {
            "image/png": "[encoded data removed]",
            "text/plain": [
              "<Figure size 432x288 with 1 Axes>"
            ]
          },
          "metadata": {
            "needs_background": "light"
          }
        }
      ]
    },
    {
      "cell_type": "code",
      "metadata": {
        "colab": {
          "base_uri": "https://localhost:8080/",
          "height": 312
        },
        "id": "Ao4oy1-I6t2q",
        "outputId": "03442e8e-5898-4a49-abe4-cb7321fe575c"
      },
      "source": [
        "plt.plot(NN_3.history['accuracy'], 'blue')\n",
        "plt.title('Model accuracy')\n",
        "plt.ylabel('accuracy')\n",
        "plt.xlabel('epoch')\n",
        "plt.legend(['train'], loc='upper left')"
      ],
      "execution_count": 73,
      "outputs": [
        {
          "output_type": "execute_result",
          "data": {
            "text/plain": [
              "<matplotlib.legend.Legend at 0x7fe9ec935110>"
            ]
          },
          "metadata": {},
          "execution_count": 73
        },
        {
          "output_type": "display_data",
          "data": {
            "image/png": "[encoded data removed]",
            "text/plain": [
              "<Figure size 432x288 with 1 Axes>"
            ]
          },
          "metadata": {
            "needs_background": "light"
          }
        }
      ]
    }
  ]
}